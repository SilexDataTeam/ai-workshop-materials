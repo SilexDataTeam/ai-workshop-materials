{
 "cells": [
  {
   "cell_type": "markdown",
   "metadata": {},
   "source": [
    "[vLLM tool calling documentation](https://github.com/vllm-project/vllm/blob/main/docs/source/serving/openai_compatible_server.md#tool-calling-in-the-chat-completion-api)"
   ]
  },
  {
   "cell_type": "code",
   "execution_count": 1,
   "metadata": {},
   "outputs": [
    {
     "name": "stdout",
     "output_type": "stream",
     "text": [
      "Requirement already satisfied: langchain in /home/ubuntu/ai-workshop-materials/.venv/lib/python3.12/site-packages (0.3.4)\n",
      "Requirement already satisfied: langchain-community in /home/ubuntu/ai-workshop-materials/.venv/lib/python3.12/site-packages (0.3.3)\n",
      "Requirement already satisfied: langchain-openai in /home/ubuntu/ai-workshop-materials/.venv/lib/python3.12/site-packages (0.2.3)\n",
      "Requirement already satisfied: PyYAML>=5.3 in /home/ubuntu/ai-workshop-materials/.venv/lib/python3.12/site-packages (from langchain) (6.0.2)\n",
      "Requirement already satisfied: SQLAlchemy<3,>=1.4 in /home/ubuntu/ai-workshop-materials/.venv/lib/python3.12/site-packages (from langchain) (2.0.36)\n",
      "Requirement already satisfied: aiohttp<4.0.0,>=3.8.3 in /home/ubuntu/ai-workshop-materials/.venv/lib/python3.12/site-packages (from langchain) (3.10.10)\n",
      "Requirement already satisfied: langchain-core<0.4.0,>=0.3.12 in /home/ubuntu/ai-workshop-materials/.venv/lib/python3.12/site-packages (from langchain) (0.3.12)\n",
      "Requirement already satisfied: langchain-text-splitters<0.4.0,>=0.3.0 in /home/ubuntu/ai-workshop-materials/.venv/lib/python3.12/site-packages (from langchain) (0.3.0)\n",
      "Requirement already satisfied: langsmith<0.2.0,>=0.1.17 in /home/ubuntu/ai-workshop-materials/.venv/lib/python3.12/site-packages (from langchain) (0.1.137)\n",
      "Requirement already satisfied: numpy<2.0.0,>=1.26.0 in /home/ubuntu/ai-workshop-materials/.venv/lib/python3.12/site-packages (from langchain) (1.26.4)\n",
      "Requirement already satisfied: pydantic<3.0.0,>=2.7.4 in /home/ubuntu/ai-workshop-materials/.venv/lib/python3.12/site-packages (from langchain) (2.9.2)\n",
      "Requirement already satisfied: requests<3,>=2 in /home/ubuntu/ai-workshop-materials/.venv/lib/python3.12/site-packages (from langchain) (2.32.3)\n",
      "Requirement already satisfied: tenacity!=8.4.0,<10,>=8.1.0 in /home/ubuntu/ai-workshop-materials/.venv/lib/python3.12/site-packages (from langchain) (9.0.0)\n",
      "Requirement already satisfied: dataclasses-json<0.7,>=0.5.7 in /home/ubuntu/ai-workshop-materials/.venv/lib/python3.12/site-packages (from langchain-community) (0.6.7)\n",
      "Requirement already satisfied: pydantic-settings<3.0.0,>=2.4.0 in /home/ubuntu/ai-workshop-materials/.venv/lib/python3.12/site-packages (from langchain-community) (2.6.0)\n",
      "Requirement already satisfied: openai<2.0.0,>=1.52.0 in /home/ubuntu/ai-workshop-materials/.venv/lib/python3.12/site-packages (from langchain-openai) (1.52.1)\n",
      "Requirement already satisfied: tiktoken<1,>=0.7 in /home/ubuntu/ai-workshop-materials/.venv/lib/python3.12/site-packages (from langchain-openai) (0.7.0)\n",
      "Requirement already satisfied: aiohappyeyeballs>=2.3.0 in /home/ubuntu/ai-workshop-materials/.venv/lib/python3.12/site-packages (from aiohttp<4.0.0,>=3.8.3->langchain) (2.4.3)\n",
      "Requirement already satisfied: aiosignal>=1.1.2 in /home/ubuntu/ai-workshop-materials/.venv/lib/python3.12/site-packages (from aiohttp<4.0.0,>=3.8.3->langchain) (1.3.1)\n",
      "Requirement already satisfied: attrs>=17.3.0 in /home/ubuntu/ai-workshop-materials/.venv/lib/python3.12/site-packages (from aiohttp<4.0.0,>=3.8.3->langchain) (24.2.0)\n",
      "Requirement already satisfied: frozenlist>=1.1.1 in /home/ubuntu/ai-workshop-materials/.venv/lib/python3.12/site-packages (from aiohttp<4.0.0,>=3.8.3->langchain) (1.5.0)\n",
      "Requirement already satisfied: multidict<7.0,>=4.5 in /home/ubuntu/ai-workshop-materials/.venv/lib/python3.12/site-packages (from aiohttp<4.0.0,>=3.8.3->langchain) (6.1.0)\n",
      "Requirement already satisfied: yarl<2.0,>=1.12.0 in /home/ubuntu/ai-workshop-materials/.venv/lib/python3.12/site-packages (from aiohttp<4.0.0,>=3.8.3->langchain) (1.16.0)\n",
      "Requirement already satisfied: marshmallow<4.0.0,>=3.18.0 in /home/ubuntu/ai-workshop-materials/.venv/lib/python3.12/site-packages (from dataclasses-json<0.7,>=0.5.7->langchain-community) (3.23.0)\n",
      "Requirement already satisfied: typing-inspect<1,>=0.4.0 in /home/ubuntu/ai-workshop-materials/.venv/lib/python3.12/site-packages (from dataclasses-json<0.7,>=0.5.7->langchain-community) (0.9.0)\n",
      "Requirement already satisfied: jsonpatch<2.0,>=1.33 in /home/ubuntu/ai-workshop-materials/.venv/lib/python3.12/site-packages (from langchain-core<0.4.0,>=0.3.12->langchain) (1.33)\n",
      "Requirement already satisfied: packaging<25,>=23.2 in /home/ubuntu/ai-workshop-materials/.venv/lib/python3.12/site-packages (from langchain-core<0.4.0,>=0.3.12->langchain) (24.1)\n",
      "Requirement already satisfied: typing-extensions>=4.7 in /home/ubuntu/ai-workshop-materials/.venv/lib/python3.12/site-packages (from langchain-core<0.4.0,>=0.3.12->langchain) (4.12.2)\n",
      "Requirement already satisfied: httpx<1,>=0.23.0 in /home/ubuntu/ai-workshop-materials/.venv/lib/python3.12/site-packages (from langsmith<0.2.0,>=0.1.17->langchain) (0.27.2)\n",
      "Requirement already satisfied: orjson<4.0.0,>=3.9.14 in /home/ubuntu/ai-workshop-materials/.venv/lib/python3.12/site-packages (from langsmith<0.2.0,>=0.1.17->langchain) (3.10.10)\n",
      "Requirement already satisfied: requests-toolbelt<2.0.0,>=1.0.0 in /home/ubuntu/ai-workshop-materials/.venv/lib/python3.12/site-packages (from langsmith<0.2.0,>=0.1.17->langchain) (1.0.0)\n",
      "Requirement already satisfied: anyio<5,>=3.5.0 in /home/ubuntu/ai-workshop-materials/.venv/lib/python3.12/site-packages (from openai<2.0.0,>=1.52.0->langchain-openai) (4.6.2.post1)\n",
      "Requirement already satisfied: distro<2,>=1.7.0 in /home/ubuntu/ai-workshop-materials/.venv/lib/python3.12/site-packages (from openai<2.0.0,>=1.52.0->langchain-openai) (1.9.0)\n",
      "Requirement already satisfied: jiter<1,>=0.4.0 in /home/ubuntu/ai-workshop-materials/.venv/lib/python3.12/site-packages (from openai<2.0.0,>=1.52.0->langchain-openai) (0.6.1)\n",
      "Requirement already satisfied: sniffio in /home/ubuntu/ai-workshop-materials/.venv/lib/python3.12/site-packages (from openai<2.0.0,>=1.52.0->langchain-openai) (1.3.1)\n",
      "Requirement already satisfied: tqdm>4 in /home/ubuntu/ai-workshop-materials/.venv/lib/python3.12/site-packages (from openai<2.0.0,>=1.52.0->langchain-openai) (4.66.5)\n",
      "Requirement already satisfied: annotated-types>=0.6.0 in /home/ubuntu/ai-workshop-materials/.venv/lib/python3.12/site-packages (from pydantic<3.0.0,>=2.7.4->langchain) (0.7.0)\n",
      "Requirement already satisfied: pydantic-core==2.23.4 in /home/ubuntu/ai-workshop-materials/.venv/lib/python3.12/site-packages (from pydantic<3.0.0,>=2.7.4->langchain) (2.23.4)\n",
      "Requirement already satisfied: python-dotenv>=0.21.0 in /home/ubuntu/ai-workshop-materials/.venv/lib/python3.12/site-packages (from pydantic-settings<3.0.0,>=2.4.0->langchain-community) (1.0.1)\n",
      "Requirement already satisfied: charset-normalizer<4,>=2 in /home/ubuntu/ai-workshop-materials/.venv/lib/python3.12/site-packages (from requests<3,>=2->langchain) (3.4.0)\n",
      "Requirement already satisfied: idna<4,>=2.5 in /home/ubuntu/ai-workshop-materials/.venv/lib/python3.12/site-packages (from requests<3,>=2->langchain) (3.10)\n",
      "Requirement already satisfied: urllib3<3,>=1.21.1 in /home/ubuntu/ai-workshop-materials/.venv/lib/python3.12/site-packages (from requests<3,>=2->langchain) (2.2.3)\n",
      "Requirement already satisfied: certifi>=2017.4.17 in /home/ubuntu/ai-workshop-materials/.venv/lib/python3.12/site-packages (from requests<3,>=2->langchain) (2024.8.30)\n",
      "Requirement already satisfied: greenlet!=0.4.17 in /home/ubuntu/ai-workshop-materials/.venv/lib/python3.12/site-packages (from SQLAlchemy<3,>=1.4->langchain) (3.1.1)\n",
      "Requirement already satisfied: regex>=2022.1.18 in /home/ubuntu/ai-workshop-materials/.venv/lib/python3.12/site-packages (from tiktoken<1,>=0.7->langchain-openai) (2024.9.11)\n",
      "Requirement already satisfied: httpcore==1.* in /home/ubuntu/ai-workshop-materials/.venv/lib/python3.12/site-packages (from httpx<1,>=0.23.0->langsmith<0.2.0,>=0.1.17->langchain) (1.0.6)\n",
      "Requirement already satisfied: h11<0.15,>=0.13 in /home/ubuntu/ai-workshop-materials/.venv/lib/python3.12/site-packages (from httpcore==1.*->httpx<1,>=0.23.0->langsmith<0.2.0,>=0.1.17->langchain) (0.14.0)\n",
      "Requirement already satisfied: jsonpointer>=1.9 in /home/ubuntu/ai-workshop-materials/.venv/lib/python3.12/site-packages (from jsonpatch<2.0,>=1.33->langchain-core<0.4.0,>=0.3.12->langchain) (3.0.0)\n",
      "Requirement already satisfied: mypy-extensions>=0.3.0 in /home/ubuntu/ai-workshop-materials/.venv/lib/python3.12/site-packages (from typing-inspect<1,>=0.4.0->dataclasses-json<0.7,>=0.5.7->langchain-community) (1.0.0)\n",
      "Requirement already satisfied: propcache>=0.2.0 in /home/ubuntu/ai-workshop-materials/.venv/lib/python3.12/site-packages (from yarl<2.0,>=1.12.0->aiohttp<4.0.0,>=3.8.3->langchain) (0.2.0)\n",
      "Note: you may need to restart the kernel to use updated packages.\n"
     ]
    }
   ],
   "source": [
    "%pip install langchain langchain-community langchain-openai"
   ]
  },
  {
   "cell_type": "code",
   "execution_count": 2,
   "metadata": {},
   "outputs": [],
   "source": [
    "from langchain import PromptTemplate\n",
    "from langchain_openai import ChatOpenAI\n",
    "from langchain_core.tools import tool\n",
    "from langchain_core.messages import SystemMessage, HumanMessage\n",
    "\n",
    "# Database stub\n",
    "database = {\n",
    "    'invoice_001': {\n",
    "        'supplier': 'ABC Corp',\n",
    "        'amount': 1500,\n",
    "        'date': '2023-10-01',\n",
    "        'status': 'Paid'\n",
    "    },\n",
    "    'invoice_002': {\n",
    "        'supplier': 'XYZ Ltd',\n",
    "        'amount': 2500,\n",
    "        'date': '2023-10-05',\n",
    "        'status': 'Pending'\n",
    "    }\n",
    "}\n",
    "\n",
    "# Function to fetch invoice information from the database\n",
    "@tool\n",
    "def fetch_invoice_info(invoice_id):\n",
    "    \"\"\"Fetch invoice information from the database.\"\"\"\n",
    "    return database.get(invoice_id, 'Invoice not found')\n",
    "\n",
    "# Define our tools list\n",
    "tools = [fetch_invoice_info]\n",
    "\n",
    "# Define the prompt template\n",
    "prompt_template = PromptTemplate(\n",
    "    input_variables=[\"invoice_id\"],\n",
    "    template=\"What's the status of invoice id {invoice_id}?\",\n",
    ")\n",
    "\n",
    "# Initialize the model\n",
    "llm = ChatOpenAI(base_url=\"http://localhost:8000/v1\",\n",
    "                 model=\"meta-llama/Llama-3.1-8B-Instruct\",\n",
    "                 api_key=\"abc1234\")\n",
    "llm_with_tools = llm.bind_tools(tools)\n",
    "\n",
    "query = prompt_template.format(invoice_id=\"invoice_001\")\n",
    "\n",
    "# Call model w/ prompt and pass specific invoice_id\n",
    "response = llm_with_tools.invoke(query)"
   ]
  },
  {
   "cell_type": "code",
   "execution_count": 3,
   "metadata": {},
   "outputs": [
    {
     "name": "stdout",
     "output_type": "stream",
     "text": [
      "content='' additional_kwargs={'tool_calls': [{'id': 'chatcmpl-tool-cedd241362f1476eb6f98ff452c08805', 'function': {'arguments': '{\"invoice_id\": \"invoice_001\"}', 'name': 'fetch_invoice_info'}, 'type': 'function'}], 'refusal': None} response_metadata={'token_usage': {'completion_tokens': 22, 'prompt_tokens': 178, 'total_tokens': 200, 'completion_tokens_details': None, 'prompt_tokens_details': None}, 'model_name': 'meta-llama/Llama-3.1-8B-Instruct', 'system_fingerprint': None, 'finish_reason': 'tool_calls', 'logprobs': None} id='run-aa87a2cf-46b5-4d85-ba2a-b0e16c05f70f-0' tool_calls=[{'name': 'fetch_invoice_info', 'args': {'invoice_id': 'invoice_001'}, 'id': 'chatcmpl-tool-cedd241362f1476eb6f98ff452c08805', 'type': 'tool_call'}] usage_metadata={'input_tokens': 178, 'output_tokens': 22, 'total_tokens': 200, 'input_token_details': {}, 'output_token_details': {}}\n"
     ]
    }
   ],
   "source": [
    "print(response)"
   ]
  },
  {
   "cell_type": "code",
   "execution_count": 4,
   "metadata": {},
   "outputs": [],
   "source": [
    "messages=[\n",
    "    SystemMessage(\"\"\"You are provided with a tool to perform a database lookup when the user requests the status of an invoice with an invoice id. Perform the lookup and provide the status to the user in a clear, readable format. The status should be every field in the entry returned from the database on a separate line.\"\"\"),\n",
    "    HumanMessage(query),\n",
    "    response\n",
    "]"
   ]
  },
  {
   "cell_type": "code",
   "execution_count": null,
   "metadata": {},
   "outputs": [
    {
     "name": "stdout",
     "output_type": "stream",
     "text": [
      "{'name': 'fetch_invoice_info', 'args': {'invoice_id': 'invoice_001'}, 'id': 'chatcmpl-tool-cedd241362f1476eb6f98ff452c08805', 'type': 'tool_call'}\n",
      "content='{\"supplier\": \"ABC Corp\", \"amount\": 1500, \"date\": \"2023-10-01\", \"status\": \"Paid\"}' name='fetch_invoice_info' tool_call_id='chatcmpl-tool-cedd241362f1476eb6f98ff452c08805'\n"
     ]
    }
   ],
   "source": [
    "for tool_call in response.tool_calls:\n",
    "    selected_tool = {\"fetch_invoice_info\": fetch_invoice_info}[tool_call[\"name\"].lower()]\n",
    "    tool_msg = selected_tool.invoke(tool_call)\n",
    "    messages.append(tool_msg)"
   ]
  },
  {
   "cell_type": "code",
   "execution_count": 6,
   "metadata": {},
   "outputs": [
    {
     "name": "stdout",
     "output_type": "stream",
     "text": [
      "[SystemMessage(content='You are provided with a tool to perform a database lookup when the user requests the status of an invoice with an invoice id. Perform the lookup and provide the status to the user in a clear, readable format. The status should be every field in the entry returned from the database on a separate line.', additional_kwargs={}, response_metadata={}), HumanMessage(content=\"What's the status of invoice id invoice_001?\", additional_kwargs={}, response_metadata={}), AIMessage(content='', additional_kwargs={'tool_calls': [{'id': 'chatcmpl-tool-cedd241362f1476eb6f98ff452c08805', 'function': {'arguments': '{\"invoice_id\": \"invoice_001\"}', 'name': 'fetch_invoice_info'}, 'type': 'function'}], 'refusal': None}, response_metadata={'token_usage': {'completion_tokens': 22, 'prompt_tokens': 178, 'total_tokens': 200, 'completion_tokens_details': None, 'prompt_tokens_details': None}, 'model_name': 'meta-llama/Llama-3.1-8B-Instruct', 'system_fingerprint': None, 'finish_reason': 'tool_calls', 'logprobs': None}, id='run-aa87a2cf-46b5-4d85-ba2a-b0e16c05f70f-0', tool_calls=[{'name': 'fetch_invoice_info', 'args': {'invoice_id': 'invoice_001'}, 'id': 'chatcmpl-tool-cedd241362f1476eb6f98ff452c08805', 'type': 'tool_call'}], usage_metadata={'input_tokens': 178, 'output_tokens': 22, 'total_tokens': 200, 'input_token_details': {}, 'output_token_details': {}}), ToolMessage(content='{\"supplier\": \"ABC Corp\", \"amount\": 1500, \"date\": \"2023-10-01\", \"status\": \"Paid\"}', name='fetch_invoice_info', tool_call_id='chatcmpl-tool-cedd241362f1476eb6f98ff452c08805')]\n"
     ]
    }
   ],
   "source": [
    "print(messages)\n",
    "messages.append(llm_with_tools.invoke(messages))"
   ]
  },
  {
   "cell_type": "code",
   "execution_count": 7,
   "metadata": {},
   "outputs": [
    {
     "name": "stdout",
     "output_type": "stream",
     "text": [
      "[SystemMessage(content='You are provided with a tool to perform a database lookup when the user requests the status of an invoice with an invoice id. Perform the lookup and provide the status to the user in a clear, readable format. The status should be every field in the entry returned from the database on a separate line.', additional_kwargs={}, response_metadata={}), HumanMessage(content=\"What's the status of invoice id invoice_001?\", additional_kwargs={}, response_metadata={}), AIMessage(content='', additional_kwargs={'tool_calls': [{'id': 'chatcmpl-tool-cedd241362f1476eb6f98ff452c08805', 'function': {'arguments': '{\"invoice_id\": \"invoice_001\"}', 'name': 'fetch_invoice_info'}, 'type': 'function'}], 'refusal': None}, response_metadata={'token_usage': {'completion_tokens': 22, 'prompt_tokens': 178, 'total_tokens': 200, 'completion_tokens_details': None, 'prompt_tokens_details': None}, 'model_name': 'meta-llama/Llama-3.1-8B-Instruct', 'system_fingerprint': None, 'finish_reason': 'tool_calls', 'logprobs': None}, id='run-aa87a2cf-46b5-4d85-ba2a-b0e16c05f70f-0', tool_calls=[{'name': 'fetch_invoice_info', 'args': {'invoice_id': 'invoice_001'}, 'id': 'chatcmpl-tool-cedd241362f1476eb6f98ff452c08805', 'type': 'tool_call'}], usage_metadata={'input_tokens': 178, 'output_tokens': 22, 'total_tokens': 200, 'input_token_details': {}, 'output_token_details': {}}), ToolMessage(content='{\"supplier\": \"ABC Corp\", \"amount\": 1500, \"date\": \"2023-10-01\", \"status\": \"Paid\"}', name='fetch_invoice_info', tool_call_id='chatcmpl-tool-cedd241362f1476eb6f98ff452c08805'), AIMessage(content='This response indicates that the invoice with ID \"invoice_001\" is paid, and the details of the invoice are as follows:\\n\\n* Supplier: ABC Corp\\n* Amount: $1500\\n* Date: October 01, 2023\\n* Status: Paid\\n\\nThe response is in a clear and readable format, with each field on a separate line.', additional_kwargs={'refusal': None}, response_metadata={'token_usage': {'completion_tokens': 74, 'prompt_tokens': 302, 'total_tokens': 376, 'completion_tokens_details': None, 'prompt_tokens_details': None}, 'model_name': 'meta-llama/Llama-3.1-8B-Instruct', 'system_fingerprint': None, 'finish_reason': 'stop', 'logprobs': None}, id='run-805d4211-3749-47e9-a233-fbf08c861d59-0', usage_metadata={'input_tokens': 302, 'output_tokens': 74, 'total_tokens': 376, 'input_token_details': {}, 'output_token_details': {}})]\n"
     ]
    }
   ],
   "source": [
    "print(messages)"
   ]
  }
 ],
 "metadata": {
  "kernelspec": {
   "display_name": ".venv",
   "language": "python",
   "name": "python3"
  },
  "language_info": {
   "codemirror_mode": {
    "name": "ipython",
    "version": 3
   },
   "file_extension": ".py",
   "mimetype": "text/x-python",
   "name": "python",
   "nbconvert_exporter": "python",
   "pygments_lexer": "ipython3",
   "version": "3.12.3"
  }
 },
 "nbformat": 4,
 "nbformat_minor": 2
}
