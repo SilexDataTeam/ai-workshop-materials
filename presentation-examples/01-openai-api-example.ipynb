{
 "cells": [
  {
   "cell_type": "code",
   "execution_count": 2,
   "metadata": {},
   "outputs": [],
   "source": [
    "from openai import OpenAI\n",
    "\n",
    "# openai client will automatically read the OPENAI_API_KEY environment\n",
    "# variable, but you can also set it manually like this:\n",
    "# openai =\n",
    "# OpenAI(api_key=\"<api key>\")\n",
    "openai = OpenAI()"
   ]
  },
  {
   "cell_type": "code",
   "execution_count": 3,
   "metadata": {},
   "outputs": [],
   "source": [
    "response = openai.chat.completions.create(\n",
    "    model=\"gpt-4o\",\n",
    "    messages=[\n",
    "        {\"role\": \"system\", \"content\": \"You are a helpful assistant.\"},\n",
    "        {\n",
    "            \"role\": \"user\",\n",
    "            \"content\": \"Write a brief paragraph about the history of Tennessee.\",\n",
    "        },\n",
    "    ],\n",
    "    temperature=0.6,\n",
    "    max_tokens=150,\n",
    ")"
   ]
  },
  {
   "cell_type": "code",
   "execution_count": 4,
   "metadata": {},
   "outputs": [
    {
     "data": {
      "text/plain": [
       "\"Tennessee's history is rich and varied, beginning with its indigenous peoples, including the Cherokee, Chickasaw, and Creek tribes. European exploration began in the mid-16th century with Spanish expeditions, but it was not until the late 18th century that settlers from the eastern colonies began to establish permanent settlements. Tennessee was originally part of North Carolina and later the Southwest Territory before becoming the 16th state of the United States on June 1, 1796. During the Civil War, Tennessee was a significant battleground, being the last state to join the Confederacy and the first to be readmitted to the Union. The state played a crucial role in the civil rights movement in the 20th century, highlighted by events\""
      ]
     },
     "execution_count": 4,
     "metadata": {},
     "output_type": "execute_result"
    }
   ],
   "source": [
    "response.choices[0].message.content"
   ]
  },
  {
   "cell_type": "code",
   "execution_count": 9,
   "metadata": {},
   "outputs": [
    {
     "name": "stdout",
     "output_type": "stream",
     "text": [
      "ChatCompletion(id='chatcmpl-ALB9QziYu4Zqmm4YW61JS6ysxkbEi', choices=[Choice(finish_reason='length', index=0, logprobs=None, message=ChatCompletionMessage(content=\"Tennessee's history is rich and varied, beginning with its indigenous peoples, including the Cherokee, Chickasaw, and Creek tribes. European exploration began in the mid-16th century with Spanish expeditions, but it was not until the late 18th century that settlers from the eastern colonies began to establish permanent settlements. Tennessee was originally part of North Carolina and later the Southwest Territory before becoming the 16th state of the United States on June 1, 1796. During the Civil War, Tennessee was a significant battleground, being the last state to join the Confederacy and the first to be readmitted to the Union. The state played a crucial role in the civil rights movement in the 20th century, highlighted by events\", refusal=None, role='assistant', audio=None, function_call=None, tool_calls=None))], created=1729611116, model='gpt-4o-2024-08-06', object='chat.completion', service_tier=None, system_fingerprint='fp_45c6de4934', usage=CompletionUsage(completion_tokens=150, prompt_tokens=27, total_tokens=177, completion_tokens_details=CompletionTokensDetails(audio_tokens=None, reasoning_tokens=0), prompt_tokens_details=PromptTokensDetails(audio_tokens=None, cached_tokens=0)))\n"
     ]
    }
   ],
   "source": [
    "print(response)"
   ]
  }
 ],
 "metadata": {
  "kernelspec": {
   "display_name": ".venv",
   "language": "python",
   "name": "python3"
  },
  "language_info": {
   "codemirror_mode": {
    "name": "ipython",
    "version": 3
   },
   "file_extension": ".py",
   "mimetype": "text/x-python",
   "name": "python",
   "nbconvert_exporter": "python",
   "pygments_lexer": "ipython3",
   "version": "3.11.10"
  }
 },
 "nbformat": 4,
 "nbformat_minor": 2
}
