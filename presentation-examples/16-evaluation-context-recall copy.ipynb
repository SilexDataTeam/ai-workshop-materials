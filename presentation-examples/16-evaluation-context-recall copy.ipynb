{
 "cells": [
  {
   "cell_type": "code",
   "execution_count": 12,
   "metadata": {},
   "outputs": [
    {
     "data": {
      "text/plain": [
       "1.0"
      ]
     },
     "execution_count": 12,
     "metadata": {},
     "output_type": "execute_result"
    }
   ],
   "source": [
    "from langchain_openai.chat_models import ChatOpenAI\n",
    "from ragas import SingleTurnSample\n",
    "from ragas.llms import LangchainLLMWrapper\n",
    "from ragas.metrics import LLMContextRecall\n",
    "\n",
    "evaluator_llm = LangchainLLMWrapper(ChatOpenAI(model=\"gpt-4o-mini\"))\n",
    "\n",
    "context_recall = LLMContextRecall(llm=evaluator_llm)\n",
    "\n",
    "retrieved_contexts = [\n",
    "    \"Memphis is famous for its music scene.\",\n",
    "    \"The capital of Alabama is Montgomery.\",\n",
    "    \"The capital of Tennessee is Nashville.\",\n",
    "]\n",
    "\n",
    "sample = SingleTurnSample(\n",
    "    user_input=\"What is the capital of Tennessee?\",\n",
    "    response=\"The capital of Tennessee is Nashville.\",\n",
    "    reference=\"Nashville is the capital of Tennessee.\",\n",
    "    retrieved_contexts=retrieved_contexts,\n",
    ")\n",
    "\n",
    "context_recall.single_turn_score(sample)"
   ]
  },
  {
   "cell_type": "code",
   "execution_count": 11,
   "metadata": {},
   "outputs": [
    {
     "data": {
      "text/plain": [
       "0.0"
      ]
     },
     "execution_count": 11,
     "metadata": {},
     "output_type": "execute_result"
    }
   ],
   "source": [
    "retrieved_contexts = [\"The capital of Alabama is Montgomery.\"]\n",
    "\n",
    "sample = SingleTurnSample(\n",
    "    user_input=\"What is the capital of Tennessee?\",\n",
    "    response=\"The capital of Tennessee is Nashville.\",\n",
    "    reference=\"Nashville is the capital of Tennessee.\",\n",
    "    retrieved_contexts=retrieved_contexts,\n",
    ")\n",
    "\n",
    "context_recall.single_turn_score(sample)"
   ]
  },
  {
   "cell_type": "code",
   "execution_count": null,
   "metadata": {},
   "outputs": [],
   "source": []
  }
 ],
 "metadata": {
  "kernelspec": {
   "display_name": ".venv",
   "language": "python",
   "name": "python3"
  },
  "language_info": {
   "codemirror_mode": {
    "name": "ipython",
    "version": 3
   },
   "file_extension": ".py",
   "mimetype": "text/x-python",
   "name": "python",
   "nbconvert_exporter": "python",
   "pygments_lexer": "ipython3",
   "version": "3.11.11"
  }
 },
 "nbformat": 4,
 "nbformat_minor": 2
}
