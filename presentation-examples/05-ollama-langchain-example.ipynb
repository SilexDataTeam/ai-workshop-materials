{
 "cells": [
  {
   "cell_type": "code",
   "execution_count": 1,
   "metadata": {},
   "outputs": [
    {
     "name": "stdout",
     "output_type": "stream",
     "text": [
      "Collecting langchain-ollama\n",
      "  Downloading langchain_ollama-0.2.0-py3-none-any.whl.metadata (1.8 kB)\n",
      "Requirement already satisfied: langchain-core<0.4.0,>=0.3.0 in /Users/dlewis/work/repos/silex/ai-workshop-materials/.venv/lib/python3.11/site-packages (from langchain-ollama) (0.3.12)\n",
      "Collecting ollama<1,>=0.3.0 (from langchain-ollama)\n",
      "  Downloading ollama-0.3.3-py3-none-any.whl.metadata (3.8 kB)\n",
      "Requirement already satisfied: PyYAML>=5.3 in /Users/dlewis/work/repos/silex/ai-workshop-materials/.venv/lib/python3.11/site-packages (from langchain-core<0.4.0,>=0.3.0->langchain-ollama) (6.0.2)\n",
      "Requirement already satisfied: jsonpatch<2.0,>=1.33 in /Users/dlewis/work/repos/silex/ai-workshop-materials/.venv/lib/python3.11/site-packages (from langchain-core<0.4.0,>=0.3.0->langchain-ollama) (1.33)\n",
      "Requirement already satisfied: langsmith<0.2.0,>=0.1.125 in /Users/dlewis/work/repos/silex/ai-workshop-materials/.venv/lib/python3.11/site-packages (from langchain-core<0.4.0,>=0.3.0->langchain-ollama) (0.1.136)\n",
      "Requirement already satisfied: packaging<25,>=23.2 in /Users/dlewis/work/repos/silex/ai-workshop-materials/.venv/lib/python3.11/site-packages (from langchain-core<0.4.0,>=0.3.0->langchain-ollama) (24.1)\n",
      "Requirement already satisfied: pydantic<3.0.0,>=2.5.2 in /Users/dlewis/work/repos/silex/ai-workshop-materials/.venv/lib/python3.11/site-packages (from langchain-core<0.4.0,>=0.3.0->langchain-ollama) (2.9.2)\n",
      "Requirement already satisfied: tenacity!=8.4.0,<10.0.0,>=8.1.0 in /Users/dlewis/work/repos/silex/ai-workshop-materials/.venv/lib/python3.11/site-packages (from langchain-core<0.4.0,>=0.3.0->langchain-ollama) (9.0.0)\n",
      "Requirement already satisfied: typing-extensions>=4.7 in /Users/dlewis/work/repos/silex/ai-workshop-materials/.venv/lib/python3.11/site-packages (from langchain-core<0.4.0,>=0.3.0->langchain-ollama) (4.12.2)\n",
      "Requirement already satisfied: httpx<0.28.0,>=0.27.0 in /Users/dlewis/work/repos/silex/ai-workshop-materials/.venv/lib/python3.11/site-packages (from ollama<1,>=0.3.0->langchain-ollama) (0.27.2)\n",
      "Requirement already satisfied: anyio in /Users/dlewis/work/repos/silex/ai-workshop-materials/.venv/lib/python3.11/site-packages (from httpx<0.28.0,>=0.27.0->ollama<1,>=0.3.0->langchain-ollama) (4.6.2.post1)\n",
      "Requirement already satisfied: certifi in /Users/dlewis/work/repos/silex/ai-workshop-materials/.venv/lib/python3.11/site-packages (from httpx<0.28.0,>=0.27.0->ollama<1,>=0.3.0->langchain-ollama) (2024.8.30)\n",
      "Requirement already satisfied: httpcore==1.* in /Users/dlewis/work/repos/silex/ai-workshop-materials/.venv/lib/python3.11/site-packages (from httpx<0.28.0,>=0.27.0->ollama<1,>=0.3.0->langchain-ollama) (1.0.6)\n",
      "Requirement already satisfied: idna in /Users/dlewis/work/repos/silex/ai-workshop-materials/.venv/lib/python3.11/site-packages (from httpx<0.28.0,>=0.27.0->ollama<1,>=0.3.0->langchain-ollama) (3.10)\n",
      "Requirement already satisfied: sniffio in /Users/dlewis/work/repos/silex/ai-workshop-materials/.venv/lib/python3.11/site-packages (from httpx<0.28.0,>=0.27.0->ollama<1,>=0.3.0->langchain-ollama) (1.3.1)\n",
      "Requirement already satisfied: h11<0.15,>=0.13 in /Users/dlewis/work/repos/silex/ai-workshop-materials/.venv/lib/python3.11/site-packages (from httpcore==1.*->httpx<0.28.0,>=0.27.0->ollama<1,>=0.3.0->langchain-ollama) (0.14.0)\n",
      "Requirement already satisfied: jsonpointer>=1.9 in /Users/dlewis/work/repos/silex/ai-workshop-materials/.venv/lib/python3.11/site-packages (from jsonpatch<2.0,>=1.33->langchain-core<0.4.0,>=0.3.0->langchain-ollama) (3.0.0)\n",
      "Requirement already satisfied: orjson<4.0.0,>=3.9.14 in /Users/dlewis/work/repos/silex/ai-workshop-materials/.venv/lib/python3.11/site-packages (from langsmith<0.2.0,>=0.1.125->langchain-core<0.4.0,>=0.3.0->langchain-ollama) (3.10.9)\n",
      "Requirement already satisfied: requests<3,>=2 in /Users/dlewis/work/repos/silex/ai-workshop-materials/.venv/lib/python3.11/site-packages (from langsmith<0.2.0,>=0.1.125->langchain-core<0.4.0,>=0.3.0->langchain-ollama) (2.32.3)\n",
      "Requirement already satisfied: requests-toolbelt<2.0.0,>=1.0.0 in /Users/dlewis/work/repos/silex/ai-workshop-materials/.venv/lib/python3.11/site-packages (from langsmith<0.2.0,>=0.1.125->langchain-core<0.4.0,>=0.3.0->langchain-ollama) (1.0.0)\n",
      "Requirement already satisfied: annotated-types>=0.6.0 in /Users/dlewis/work/repos/silex/ai-workshop-materials/.venv/lib/python3.11/site-packages (from pydantic<3.0.0,>=2.5.2->langchain-core<0.4.0,>=0.3.0->langchain-ollama) (0.7.0)\n",
      "Requirement already satisfied: pydantic-core==2.23.4 in /Users/dlewis/work/repos/silex/ai-workshop-materials/.venv/lib/python3.11/site-packages (from pydantic<3.0.0,>=2.5.2->langchain-core<0.4.0,>=0.3.0->langchain-ollama) (2.23.4)\n",
      "Requirement already satisfied: charset-normalizer<4,>=2 in /Users/dlewis/work/repos/silex/ai-workshop-materials/.venv/lib/python3.11/site-packages (from requests<3,>=2->langsmith<0.2.0,>=0.1.125->langchain-core<0.4.0,>=0.3.0->langchain-ollama) (3.4.0)\n",
      "Requirement already satisfied: urllib3<3,>=1.21.1 in /Users/dlewis/work/repos/silex/ai-workshop-materials/.venv/lib/python3.11/site-packages (from requests<3,>=2->langsmith<0.2.0,>=0.1.125->langchain-core<0.4.0,>=0.3.0->langchain-ollama) (2.2.3)\n",
      "Downloading langchain_ollama-0.2.0-py3-none-any.whl (14 kB)\n",
      "Downloading ollama-0.3.3-py3-none-any.whl (10 kB)\n",
      "Installing collected packages: ollama, langchain-ollama\n",
      "Successfully installed langchain-ollama-0.2.0 ollama-0.3.3\n",
      "Note: you may need to restart the kernel to use updated packages.\n"
     ]
    }
   ],
   "source": [
    "%pip install -U langchain-ollama"
   ]
  },
  {
   "cell_type": "code",
   "execution_count": null,
   "metadata": {},
   "outputs": [],
   "source": [
    "from langchain_ollama import ChatOllama\n",
    "\n",
    "llm = ChatOllama(model=\"llama3.2:3b\")"
   ]
  },
  {
   "cell_type": "code",
   "execution_count": 5,
   "metadata": {},
   "outputs": [
    {
     "name": "stdout",
     "output_type": "stream",
     "text": [
      "content='Tennessee, known as the \"Volunteer State,\" has a rich and diverse history dating back to the early 18th century. The region was inhabited by various Native American tribes before European exploration, with French explorers being among the first to visit in the early 1700s. In 1776, Tennessee became part of the state of North Carolina, but it soon gained independence as the Southwest Territory in 1790 and eventually became the 16th state on June 1, 1796. The state played a significant role in the American Civil War, with many key battles taking place within its borders, including the Battle of Shiloh. After the war, Tennessee experienced significant growth and development, driven by its rich natural resources and strategic location between the Appalachian Mountains and the Mississippi River. Today, the state is known for its vibrant music scene, particularly country and blues, as well as its iconic landmarks like the Great Smoky Mountains National Park and the Jack Daniel\\'s Distillery.' additional_kwargs={} response_metadata={'model': 'llama3.2:3b', 'created_at': '2024-10-23T16:41:22.334664Z', 'message': {'role': 'assistant', 'content': ''}, 'done_reason': 'stop', 'done': True, 'total_duration': 2391398458, 'load_duration': 27777750, 'prompt_eval_count': 44, 'prompt_eval_duration': 109539000, 'eval_count': 202, 'eval_duration': 2252032000} id='run-6e403dbe-9596-4ad7-a96d-c1562185198c-0' usage_metadata={'input_tokens': 44, 'output_tokens': 202, 'total_tokens': 246}\n"
     ]
    }
   ],
   "source": [
    "from langchain_core.messages import SystemMessage, HumanMessage\n",
    "\n",
    "messages = [\n",
    "    SystemMessage(\"You are a helpful assistant.\"),\n",
    "    HumanMessage(\"Please give me a brief history about Tennessee in 1 paragraph.\"),\n",
    "]\n",
    "\n",
    "print(llm.invoke(messages))"
   ]
  }
 ],
 "metadata": {
  "kernelspec": {
   "display_name": ".venv",
   "language": "python",
   "name": "python3"
  },
  "language_info": {
   "codemirror_mode": {
    "name": "ipython",
    "version": 3
   },
   "file_extension": ".py",
   "mimetype": "text/x-python",
   "name": "python",
   "nbconvert_exporter": "python",
   "pygments_lexer": "ipython3",
   "version": "3.11.10"
  }
 },
 "nbformat": 4,
 "nbformat_minor": 2
}
