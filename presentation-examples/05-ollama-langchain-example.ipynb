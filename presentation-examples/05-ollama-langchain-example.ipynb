{
 "cells": [
  {
   "cell_type": "code",
   "execution_count": null,
   "metadata": {},
   "outputs": [],
   "source": [
    "from langchain_ollama import ChatOllama\n",
    "\n",
    "llm = ChatOllama(model=\"llama3.2:3b\")"
   ]
  },
  {
   "cell_type": "code",
   "execution_count": 5,
   "metadata": {},
   "outputs": [
    {
     "name": "stdout",
     "output_type": "stream",
     "text": [
      "content='Tennessee, known as the \"Volunteer State,\" has a rich and diverse history dating back to the early 18th century. The region was inhabited by various Native American tribes before European exploration, with French explorers being among the first to visit in the early 1700s. In 1776, Tennessee became part of the state of North Carolina, but it soon gained independence as the Southwest Territory in 1790 and eventually became the 16th state on June 1, 1796. The state played a significant role in the American Civil War, with many key battles taking place within its borders, including the Battle of Shiloh. After the war, Tennessee experienced significant growth and development, driven by its rich natural resources and strategic location between the Appalachian Mountains and the Mississippi River. Today, the state is known for its vibrant music scene, particularly country and blues, as well as its iconic landmarks like the Great Smoky Mountains National Park and the Jack Daniel\\'s Distillery.' additional_kwargs={} response_metadata={'model': 'llama3.2:3b', 'created_at': '2024-10-23T16:41:22.334664Z', 'message': {'role': 'assistant', 'content': ''}, 'done_reason': 'stop', 'done': True, 'total_duration': 2391398458, 'load_duration': 27777750, 'prompt_eval_count': 44, 'prompt_eval_duration': 109539000, 'eval_count': 202, 'eval_duration': 2252032000} id='run-6e403dbe-9596-4ad7-a96d-c1562185198c-0' usage_metadata={'input_tokens': 44, 'output_tokens': 202, 'total_tokens': 246}\n"
     ]
    }
   ],
   "source": [
    "from langchain_core.messages import HumanMessage, SystemMessage\n",
    "\n",
    "messages = [\n",
    "    SystemMessage(\"You are a helpful assistant.\"),\n",
    "    HumanMessage(\"Please give me a brief history about Tennessee in 1 paragraph.\"),\n",
    "]\n",
    "\n",
    "print(llm.invoke(messages))"
   ]
  }
 ],
 "metadata": {
  "kernelspec": {
   "display_name": ".venv",
   "language": "python",
   "name": "python3"
  },
  "language_info": {
   "codemirror_mode": {
    "name": "ipython",
    "version": 3
   },
   "file_extension": ".py",
   "mimetype": "text/x-python",
   "name": "python",
   "nbconvert_exporter": "python",
   "pygments_lexer": "ipython3",
   "version": "3.11.10"
  }
 },
 "nbformat": 4,
 "nbformat_minor": 2
}
