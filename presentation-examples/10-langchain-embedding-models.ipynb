{
 "cells": [
  {
   "cell_type": "code",
   "execution_count": 1,
   "metadata": {},
   "outputs": [
    {
     "name": "stdout",
     "output_type": "stream",
     "text": [
      "Requirement already satisfied: langchain-openai in /Users/dlewis/work/repos/silex/ai-workshop-materials/.venv/lib/python3.11/site-packages (0.2.3)\n",
      "Requirement already satisfied: langchain-core<0.4.0,>=0.3.12 in /Users/dlewis/work/repos/silex/ai-workshop-materials/.venv/lib/python3.11/site-packages (from langchain-openai) (0.3.12)\n",
      "Requirement already satisfied: openai<2.0.0,>=1.52.0 in /Users/dlewis/work/repos/silex/ai-workshop-materials/.venv/lib/python3.11/site-packages (from langchain-openai) (1.52.0)\n",
      "Requirement already satisfied: tiktoken<1,>=0.7 in /Users/dlewis/work/repos/silex/ai-workshop-materials/.venv/lib/python3.11/site-packages (from langchain-openai) (0.8.0)\n",
      "Requirement already satisfied: PyYAML>=5.3 in /Users/dlewis/work/repos/silex/ai-workshop-materials/.venv/lib/python3.11/site-packages (from langchain-core<0.4.0,>=0.3.12->langchain-openai) (6.0.2)\n",
      "Requirement already satisfied: jsonpatch<2.0,>=1.33 in /Users/dlewis/work/repos/silex/ai-workshop-materials/.venv/lib/python3.11/site-packages (from langchain-core<0.4.0,>=0.3.12->langchain-openai) (1.33)\n",
      "Requirement already satisfied: langsmith<0.2.0,>=0.1.125 in /Users/dlewis/work/repos/silex/ai-workshop-materials/.venv/lib/python3.11/site-packages (from langchain-core<0.4.0,>=0.3.12->langchain-openai) (0.1.136)\n",
      "Requirement already satisfied: packaging<25,>=23.2 in /Users/dlewis/work/repos/silex/ai-workshop-materials/.venv/lib/python3.11/site-packages (from langchain-core<0.4.0,>=0.3.12->langchain-openai) (24.1)\n",
      "Requirement already satisfied: pydantic<3.0.0,>=2.5.2 in /Users/dlewis/work/repos/silex/ai-workshop-materials/.venv/lib/python3.11/site-packages (from langchain-core<0.4.0,>=0.3.12->langchain-openai) (2.9.2)\n",
      "Requirement already satisfied: tenacity!=8.4.0,<10.0.0,>=8.1.0 in /Users/dlewis/work/repos/silex/ai-workshop-materials/.venv/lib/python3.11/site-packages (from langchain-core<0.4.0,>=0.3.12->langchain-openai) (9.0.0)\n",
      "Requirement already satisfied: typing-extensions>=4.7 in /Users/dlewis/work/repos/silex/ai-workshop-materials/.venv/lib/python3.11/site-packages (from langchain-core<0.4.0,>=0.3.12->langchain-openai) (4.12.2)\n",
      "Requirement already satisfied: anyio<5,>=3.5.0 in /Users/dlewis/work/repos/silex/ai-workshop-materials/.venv/lib/python3.11/site-packages (from openai<2.0.0,>=1.52.0->langchain-openai) (4.6.2.post1)\n",
      "Requirement already satisfied: distro<2,>=1.7.0 in /Users/dlewis/work/repos/silex/ai-workshop-materials/.venv/lib/python3.11/site-packages (from openai<2.0.0,>=1.52.0->langchain-openai) (1.9.0)\n",
      "Requirement already satisfied: httpx<1,>=0.23.0 in /Users/dlewis/work/repos/silex/ai-workshop-materials/.venv/lib/python3.11/site-packages (from openai<2.0.0,>=1.52.0->langchain-openai) (0.27.2)\n",
      "Requirement already satisfied: jiter<1,>=0.4.0 in /Users/dlewis/work/repos/silex/ai-workshop-materials/.venv/lib/python3.11/site-packages (from openai<2.0.0,>=1.52.0->langchain-openai) (0.6.1)\n",
      "Requirement already satisfied: sniffio in /Users/dlewis/work/repos/silex/ai-workshop-materials/.venv/lib/python3.11/site-packages (from openai<2.0.0,>=1.52.0->langchain-openai) (1.3.1)\n",
      "Requirement already satisfied: tqdm>4 in /Users/dlewis/work/repos/silex/ai-workshop-materials/.venv/lib/python3.11/site-packages (from openai<2.0.0,>=1.52.0->langchain-openai) (4.66.5)\n",
      "Requirement already satisfied: regex>=2022.1.18 in /Users/dlewis/work/repos/silex/ai-workshop-materials/.venv/lib/python3.11/site-packages (from tiktoken<1,>=0.7->langchain-openai) (2024.9.11)\n",
      "Requirement already satisfied: requests>=2.26.0 in /Users/dlewis/work/repos/silex/ai-workshop-materials/.venv/lib/python3.11/site-packages (from tiktoken<1,>=0.7->langchain-openai) (2.32.3)\n",
      "Requirement already satisfied: idna>=2.8 in /Users/dlewis/work/repos/silex/ai-workshop-materials/.venv/lib/python3.11/site-packages (from anyio<5,>=3.5.0->openai<2.0.0,>=1.52.0->langchain-openai) (3.10)\n",
      "Requirement already satisfied: certifi in /Users/dlewis/work/repos/silex/ai-workshop-materials/.venv/lib/python3.11/site-packages (from httpx<1,>=0.23.0->openai<2.0.0,>=1.52.0->langchain-openai) (2024.8.30)\n",
      "Requirement already satisfied: httpcore==1.* in /Users/dlewis/work/repos/silex/ai-workshop-materials/.venv/lib/python3.11/site-packages (from httpx<1,>=0.23.0->openai<2.0.0,>=1.52.0->langchain-openai) (1.0.6)\n",
      "Requirement already satisfied: h11<0.15,>=0.13 in /Users/dlewis/work/repos/silex/ai-workshop-materials/.venv/lib/python3.11/site-packages (from httpcore==1.*->httpx<1,>=0.23.0->openai<2.0.0,>=1.52.0->langchain-openai) (0.14.0)\n",
      "Requirement already satisfied: jsonpointer>=1.9 in /Users/dlewis/work/repos/silex/ai-workshop-materials/.venv/lib/python3.11/site-packages (from jsonpatch<2.0,>=1.33->langchain-core<0.4.0,>=0.3.12->langchain-openai) (3.0.0)\n",
      "Requirement already satisfied: orjson<4.0.0,>=3.9.14 in /Users/dlewis/work/repos/silex/ai-workshop-materials/.venv/lib/python3.11/site-packages (from langsmith<0.2.0,>=0.1.125->langchain-core<0.4.0,>=0.3.12->langchain-openai) (3.10.9)\n",
      "Requirement already satisfied: requests-toolbelt<2.0.0,>=1.0.0 in /Users/dlewis/work/repos/silex/ai-workshop-materials/.venv/lib/python3.11/site-packages (from langsmith<0.2.0,>=0.1.125->langchain-core<0.4.0,>=0.3.12->langchain-openai) (1.0.0)\n",
      "Requirement already satisfied: annotated-types>=0.6.0 in /Users/dlewis/work/repos/silex/ai-workshop-materials/.venv/lib/python3.11/site-packages (from pydantic<3.0.0,>=2.5.2->langchain-core<0.4.0,>=0.3.12->langchain-openai) (0.7.0)\n",
      "Requirement already satisfied: pydantic-core==2.23.4 in /Users/dlewis/work/repos/silex/ai-workshop-materials/.venv/lib/python3.11/site-packages (from pydantic<3.0.0,>=2.5.2->langchain-core<0.4.0,>=0.3.12->langchain-openai) (2.23.4)\n",
      "Requirement already satisfied: charset-normalizer<4,>=2 in /Users/dlewis/work/repos/silex/ai-workshop-materials/.venv/lib/python3.11/site-packages (from requests>=2.26.0->tiktoken<1,>=0.7->langchain-openai) (3.4.0)\n",
      "Requirement already satisfied: urllib3<3,>=1.21.1 in /Users/dlewis/work/repos/silex/ai-workshop-materials/.venv/lib/python3.11/site-packages (from requests>=2.26.0->tiktoken<1,>=0.7->langchain-openai) (2.2.3)\n",
      "\n",
      "\u001b[1m[\u001b[0m\u001b[34;49mnotice\u001b[0m\u001b[1;39;49m]\u001b[0m\u001b[39;49m A new release of pip is available: \u001b[0m\u001b[31;49m24.2\u001b[0m\u001b[39;49m -> \u001b[0m\u001b[32;49m24.3.1\u001b[0m\n",
      "\u001b[1m[\u001b[0m\u001b[34;49mnotice\u001b[0m\u001b[1;39;49m]\u001b[0m\u001b[39;49m To update, run: \u001b[0m\u001b[32;49mpip install --upgrade pip\u001b[0m\n",
      "Note: you may need to restart the kernel to use updated packages.\n"
     ]
    }
   ],
   "source": [
    "%pip install langchain-openai"
   ]
  },
  {
   "cell_type": "code",
   "execution_count": 2,
   "metadata": {},
   "outputs": [],
   "source": [
    "from langchain_openai import OpenAIEmbeddings\n",
    "\n",
    "embedding_model = OpenAIEmbeddings(model=\"text-embedding-3-large\")"
   ]
  },
  {
   "cell_type": "code",
   "execution_count": 4,
   "metadata": {},
   "outputs": [],
   "source": [
    "embedding = embedding_model.embed_query(\"Hello, world!\")"
   ]
  },
  {
   "cell_type": "code",
   "execution_count": 7,
   "metadata": {},
   "outputs": [
    {
     "name": "stdout",
     "output_type": "stream",
     "text": [
      "[-0.005865450482815504, -0.024112658575177193, -0.022020621225237846, 0.027614882215857506, -0.002742892364040017, -0.02045546844601631, -0.0026905913837254047, 0.05324620380997658, 0.025057949125766754, 0.023787230253219604, -0.004071722738444805, 0.017511120066046715, 0.003260090248659253, -0.0046605924144387245, -0.0026654095854610205, 0.03359655663371086, -0.033038679510354996, 0.016162918880581856, 0.0018799272365868092, -0.02969142235815525, 0.03043525665998459, -0.00902674999088049, -0.035239193588495255, 0.01238175667822361, 0.008546357043087482, 0.024050671607255936, 0.0014905760763213038, 0.0034305525477975607, -0.02825024165213108, -0.030807174742221832, 0.003953561652451754, 0.006926965434104204, 0.008089208044111729, 0.04648970067501068, 0.04642771556973457, 0.006907594855874777, 0.006760377436876297, 0.03217087313532829, 0.02432961016893387, 0.012575464323163033, 0.008104704320430756, 0.03852446377277374, -0.009739592671394348, 0.02620469406247139, 0.005187475588172674, 0.005644624587148428, 0.007686297409236431, 0.019122764468193054, 0.025801783427596092, -0.01924673654139042]\n"
     ]
    }
   ],
   "source": [
    "print(embedding[0:50])"
   ]
  },
  {
   "cell_type": "code",
   "execution_count": null,
   "metadata": {},
   "outputs": [
    {
     "data": {
      "text/plain": [
       "3072"
      ]
     },
     "execution_count": 8,
     "metadata": {},
     "output_type": "execute_result"
    }
   ],
   "source": [
    "len(embedding)"
   ]
  }
 ],
 "metadata": {
  "kernelspec": {
   "display_name": ".venv",
   "language": "python",
   "name": "python3"
  },
  "language_info": {
   "codemirror_mode": {
    "name": "ipython",
    "version": 3
   },
   "file_extension": ".py",
   "mimetype": "text/x-python",
   "name": "python",
   "nbconvert_exporter": "python",
   "pygments_lexer": "ipython3",
   "version": "3.11.10"
  }
 },
 "nbformat": 4,
 "nbformat_minor": 2
}
