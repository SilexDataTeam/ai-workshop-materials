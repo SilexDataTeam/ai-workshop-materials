{
 "cells": [
  {
   "cell_type": "code",
   "execution_count": null,
   "metadata": {},
   "outputs": [],
   "source": [
    "from langchain_core.messages import HumanMessage, SystemMessage\n",
    "from langchain_openai import ChatOpenAI\n",
    "\n",
    "# Reads the API key from the environment variable OPENAI_API_KEY\n",
    "llm = ChatOpenAI(model=\"gpt-4o\", max_tokens=150)\n",
    "\n",
    "messages = [\n",
    "    SystemMessage(content=\"You are a helpful assistant.\"),\n",
    "    HumanMessage(\n",
    "        content=\"Write a brief history about Tennessee in a single paragraph.\"\n",
    "    ),\n",
    "]\n",
    "\n",
    "response = llm.invoke(messages)"
   ]
  },
  {
   "cell_type": "code",
   "execution_count": 4,
   "metadata": {},
   "outputs": [
    {
     "data": {
      "text/plain": [
       "AIMessage(content=\"Tennessee, originally inhabited by indigenous peoples including the Cherokee, Creek, and Shawnee, became a focal point for European exploration and settlement in the 18th century. It was part of North Carolina until 1796, when it was admitted to the Union as the 16th state. Tennessee played a significant role in the early expansion westward and was a key battleground during the Civil War, with notable battles like Shiloh and Chattanooga. Post-war, it experienced significant industrial growth and urbanization, particularly in cities like Nashville and Memphis, which became cultural centers for music genres such as country, blues, and rock 'n' roll. Throughout the 20th century, Tennessee was pivotal in the civil rights movement, with events like\", additional_kwargs={'refusal': None}, response_metadata={'token_usage': {'completion_tokens': 150, 'prompt_tokens': 28, 'total_tokens': 178, 'completion_tokens_details': {'audio_tokens': None, 'reasoning_tokens': 0}, 'prompt_tokens_details': {'audio_tokens': None, 'cached_tokens': 0}}, 'model_name': 'gpt-4o-2024-08-06', 'system_fingerprint': 'fp_a7d06e42a7', 'finish_reason': 'length', 'logprobs': None}, id='run-00bc0e5b-b260-4aca-9712-def14eb92842-0', usage_metadata={'input_tokens': 28, 'output_tokens': 150, 'total_tokens': 178, 'input_token_details': {'cache_read': 0}, 'output_token_details': {'reasoning': 0}})"
      ]
     },
     "execution_count": 4,
     "metadata": {},
     "output_type": "execute_result"
    }
   ],
   "source": [
    "response"
   ]
  },
  {
   "cell_type": "code",
   "execution_count": null,
   "metadata": {},
   "outputs": [],
   "source": []
  }
 ],
 "metadata": {
  "kernelspec": {
   "display_name": ".venv",
   "language": "python",
   "name": "python3"
  },
  "language_info": {
   "codemirror_mode": {
    "name": "ipython",
    "version": 3
   },
   "file_extension": ".py",
   "mimetype": "text/x-python",
   "name": "python",
   "nbconvert_exporter": "python",
   "pygments_lexer": "ipython3",
   "version": "3.11.10"
  }
 },
 "nbformat": 4,
 "nbformat_minor": 2
}
