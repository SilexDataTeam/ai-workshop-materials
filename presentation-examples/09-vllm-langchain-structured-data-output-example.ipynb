{
 "cells": [
  {
   "cell_type": "markdown",
   "metadata": {},
   "source": [
    "[vLLM OpenAI API Client Multimodal Example](https://github.com/vllm-project/vllm/blob/main/examples/openai_api_client_for_multimodal.py)\n",
    "\n",
    "[vLLM Vision Model Support Matrix](https://docs.vllm.ai/en/latest/models/supported_models.html#multimodal-language-models)"
   ]
  },
  {
   "cell_type": "code",
   "execution_count": 2,
   "metadata": {},
   "outputs": [],
   "source": [
    "from pydantic import BaseModel, constr, condecimal\n",
    "from typing import List\n",
    "\n",
    "\n",
    "class Item(BaseModel):\n",
    "    quantity: int\n",
    "    description: str\n",
    "    price: condecimal(gt=0, decimal_places=2)  # type: ignore\n",
    "    subtotal: condecimal(gt=0, decimal_places=2)  # type: ignore\n",
    "\n",
    "\n",
    "class PaymentInfo(BaseModel):\n",
    "    account_number: constr(min_length=9, max_length=9)  # type: ignore\n",
    "    routing_number: constr(min_length=9, max_length=9)  # type: ignore\n",
    "\n",
    "\n",
    "class Company(BaseModel):\n",
    "    name: str\n",
    "    address: str\n",
    "    email: str\n",
    "    phone: str\n",
    "    website: str\n",
    "\n",
    "\n",
    "class Invoice(BaseModel):\n",
    "    number: str\n",
    "    date: str\n",
    "    client: str\n",
    "    items: List[Item]\n",
    "    total_due: condecimal(gt=0, decimal_places=2)  # type: ignore\n",
    "    due_by: str\n",
    "    payment_info: PaymentInfo\n",
    "    company: Company"
   ]
  },
  {
   "cell_type": "code",
   "execution_count": null,
   "metadata": {},
   "outputs": [],
   "source": [
    "from langchain_openai import ChatOpenAI\n",
    "\n",
    "llm = ChatOpenAI(base_url=\"http://localhost:8000/v1\",\n",
    "                model=\"microsoft/Phi-3-vision-128k-instruct\"\n",
    "                api_key=\"abc1234\")\n",
    "structured_llm = llm.with_structured_output(Invoice)"
   ]
  },
  {
   "cell_type": "code",
   "execution_count": 4,
   "metadata": {},
   "outputs": [],
   "source": [
    "import base64\n",
    "\n",
    "# read the image file\n",
    "with open(\"files/invoice.png\", \"rb\") as image_file:\n",
    "    invoice_image = base64.b64encode(image_file.read()).decode(\"utf-8\")"
   ]
  },
  {
   "cell_type": "code",
   "execution_count": 5,
   "metadata": {},
   "outputs": [],
   "source": [
    "from langchain_core.messages import HumanMessage\n",
    "\n",
    "messages = [\n",
    "    HumanMessage(\n",
    "        content=[\n",
    "            {\"type\": \"text\", \"text\": \"Parse this image.\"},\n",
    "            {\n",
    "                \"type\": \"image_url\",\n",
    "                \"image_url\": {\"url\": f\"data:image/png;base64,{invoice_image}\"},\n",
    "            },\n",
    "        ],\n",
    "    )\n",
    "]\n",
    "response = structured_llm.invoke(messages)\n",
    "invoice = response"
   ]
  },
  {
   "cell_type": "code",
   "execution_count": 6,
   "metadata": {},
   "outputs": [
    {
     "name": "stdout",
     "output_type": "stream",
     "text": [
      "number='12345' date='May 24th, 2024' client='Anvil Co' items=[Item(quantity=2, description='Blue large widgets', price=Decimal('15.0'), subtotal=Decimal('30.0')), Item(quantity=4, description='Green medium widgets', price=Decimal('10.0'), subtotal=Decimal('40.0')), Item(quantity=5, description='Red small widgets with logo', price=Decimal('7.0'), subtotal=Decimal('35.0'))] total_due=Decimal('105.00') due_by='May 30th, 2024' payment_info=PaymentInfo(account_number='123567744', routing_number='120000547') company=Company(name='Anvil Co', address='123 Main Street, San Francisco CA, 94103', email='hello@useanvil.com', phone='555 444 6666', website='useanvil.com')\n"
     ]
    }
   ],
   "source": [
    "print(invoice)"
   ]
  }
 ],
 "metadata": {
  "kernelspec": {
   "display_name": ".venv",
   "language": "python",
   "name": "python3"
  },
  "language_info": {
   "codemirror_mode": {
    "name": "ipython",
    "version": 3
   },
   "file_extension": ".py",
   "mimetype": "text/x-python",
   "name": "python",
   "nbconvert_exporter": "python",
   "pygments_lexer": "ipython3",
   "version": "3.12.3"
  }
 },
 "nbformat": 4,
 "nbformat_minor": 2
}
