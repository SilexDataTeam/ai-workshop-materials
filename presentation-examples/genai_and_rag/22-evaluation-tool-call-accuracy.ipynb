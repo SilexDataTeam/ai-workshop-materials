{
 "cells": [
  {
   "cell_type": "code",
   "execution_count": 7,
   "metadata": {},
   "outputs": [],
   "source": [
    "from ragas import MultiTurnSample\n",
    "from ragas.messages import AIMessage, HumanMessage, ToolCall\n",
    "from ragas.metrics import ToolCallAccuracy"
   ]
  },
  {
   "cell_type": "code",
   "execution_count": null,
   "metadata": {},
   "outputs": [
    {
     "data": {
      "text/plain": [
       "1.0"
      ]
     },
     "execution_count": 6,
     "metadata": {},
     "output_type": "execute_result"
    }
   ],
   "source": [
    "tool_call_accuracy = ToolCallAccuracy()\n",
    "\n",
    "sample_messages = [\n",
    "    HumanMessage(content=\"What's the status of invoice_001?\"),\n",
    "    AIMessage(\n",
    "        content=\"The current status of invoice_001 is Pending.\",\n",
    "        tool_calls=[\n",
    "            ToolCall(name=\"get_invoice_status\", args={\"invoice_id\": \"invoice_001\"})\n",
    "        ],\n",
    "    ),\n",
    "]\n",
    "\n",
    "sample = MultiTurnSample(\n",
    "    user_input=sample_messages,\n",
    "    reference_tool_calls=[\n",
    "        ToolCall(name=\"get_invoice_status\", args={\"invoice_id\": \"invoice_001\"})\n",
    "    ],\n",
    ")\n",
    "\n",
    "tool_call_accuracy.multi_turn_score(sample)"
   ]
  },
  {
   "cell_type": "code",
   "execution_count": 8,
   "metadata": {},
   "outputs": [
    {
     "data": {
      "text/plain": [
       "0.0"
      ]
     },
     "execution_count": 8,
     "metadata": {},
     "output_type": "execute_result"
    }
   ],
   "source": [
    "sample_messages = [\n",
    "    HumanMessage(content=\"What's the status of invoice_001?\"),\n",
    "    AIMessage(\n",
    "        content=\"The current status of invoice_001 is Pending.\",\n",
    "        tool_calls=[\n",
    "            ToolCall(name=\"get_invoice_status\", args={\"invoice_id\": \"invoice_001\"})\n",
    "        ],\n",
    "    ),\n",
    "]\n",
    "\n",
    "sample = MultiTurnSample(\n",
    "    user_input=sample_messages,\n",
    "    reference_tool_calls=[\n",
    "        ToolCall(name=\"retrieve_invoice_status\", args={\"invoice_id\": \"invoice_001\"})\n",
    "    ],\n",
    ")\n",
    "\n",
    "tool_call_accuracy.multi_turn_score(sample)"
   ]
  }
 ],
 "metadata": {
  "kernelspec": {
   "display_name": ".venv",
   "language": "python",
   "name": "python3"
  },
  "language_info": {
   "codemirror_mode": {
    "name": "ipython",
    "version": 3
   },
   "file_extension": ".py",
   "mimetype": "text/x-python",
   "name": "python",
   "nbconvert_exporter": "python",
   "pygments_lexer": "ipython3",
   "version": "3.11.11"
  }
 },
 "nbformat": 4,
 "nbformat_minor": 2
}
