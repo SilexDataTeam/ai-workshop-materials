{
 "cells": [
  {
   "cell_type": "code",
   "execution_count": 1,
   "metadata": {},
   "outputs": [
    {
     "data": {
      "text/plain": [
       "0.9999999999"
      ]
     },
     "execution_count": 1,
     "metadata": {},
     "output_type": "execute_result"
    }
   ],
   "source": [
    "from langchain_openai.chat_models import ChatOpenAI\n",
    "from ragas import SingleTurnSample\n",
    "from ragas.llms import LangchainLLMWrapper\n",
    "from ragas.metrics import LLMContextPrecisionWithoutReference\n",
    "\n",
    "evaluator_llm = LangchainLLMWrapper(ChatOpenAI(model=\"gpt-4o-mini\"))\n",
    "\n",
    "context_precision = LLMContextPrecisionWithoutReference(llm=evaluator_llm)\n",
    "\n",
    "retrieved_contexts = [\n",
    "    \"Nashville is the capital of Tennessee.\",\n",
    "    \"Memphis is famous for its music scene.\",  # irrelevant\n",
    "]\n",
    "\n",
    "sample = SingleTurnSample(\n",
    "    user_input=\"What is the capital of Tennessee?\",\n",
    "    response=\"The capital of Tennessee is Nashville.\",\n",
    "    retrieved_contexts=retrieved_contexts,\n",
    ")\n",
    "\n",
    "context_precision.single_turn_score(sample)"
   ]
  },
  {
   "cell_type": "code",
   "execution_count": 2,
   "metadata": {},
   "outputs": [
    {
     "data": {
      "text/plain": [
       "0.49999999995"
      ]
     },
     "execution_count": 2,
     "metadata": {},
     "output_type": "execute_result"
    }
   ],
   "source": [
    "retrieved_contexts = [\n",
    "    \"Memphis is famous for its music scene.\",  # irrelevant\n",
    "    \"Nashville is the capital of Tennessee.\",\n",
    "]\n",
    "\n",
    "sample = SingleTurnSample(\n",
    "    user_input=\"What is the capital of Tennessee?\",\n",
    "    response=\"The capital of Tennessee is Nashville.\",\n",
    "    retrieved_contexts=retrieved_contexts,\n",
    ")\n",
    "\n",
    "context_precision.single_turn_score(sample)"
   ]
  },
  {
   "cell_type": "code",
   "execution_count": 3,
   "metadata": {},
   "outputs": [
    {
     "data": {
      "text/plain": [
       "0.9999999999"
      ]
     },
     "execution_count": 3,
     "metadata": {},
     "output_type": "execute_result"
    }
   ],
   "source": [
    "retrieved_contexts = [\n",
    "    \"Nashville is the capital of Tennessee.\",\n",
    "    \"1+1=0.\",  # wrong\n",
    "]\n",
    "\n",
    "sample = SingleTurnSample(\n",
    "    user_input=\"What is the capital of Tennessee?\",\n",
    "    response=\"The capital of Tennessee is Nashville.\",\n",
    "    retrieved_contexts=retrieved_contexts,\n",
    ")\n",
    "\n",
    "context_precision.single_turn_score(sample)"
   ]
  },
  {
   "cell_type": "code",
   "execution_count": 4,
   "metadata": {},
   "outputs": [
    {
     "data": {
      "text/plain": [
       "0.49999999995"
      ]
     },
     "execution_count": 4,
     "metadata": {},
     "output_type": "execute_result"
    }
   ],
   "source": [
    "retrieved_contexts = [\n",
    "    \"1+1=0.\",  # wrong\n",
    "    \"Nashville is the capital of Tennessee.\",\n",
    "]\n",
    "\n",
    "sample = SingleTurnSample(\n",
    "    user_input=\"What is the capital of Tennessee?\",\n",
    "    response=\"The capital of Tennessee is Nashville.\",\n",
    "    retrieved_contexts=retrieved_contexts,\n",
    ")\n",
    "\n",
    "context_precision.single_turn_score(sample)"
   ]
  }
 ],
 "metadata": {
  "kernelspec": {
   "display_name": ".venv",
   "language": "python",
   "name": "python3"
  },
  "language_info": {
   "codemirror_mode": {
    "name": "ipython",
    "version": 3
   },
   "file_extension": ".py",
   "mimetype": "text/x-python",
   "name": "python",
   "nbconvert_exporter": "python",
   "pygments_lexer": "ipython3",
   "version": "3.11.11"
  }
 },
 "nbformat": 4,
 "nbformat_minor": 2
}
