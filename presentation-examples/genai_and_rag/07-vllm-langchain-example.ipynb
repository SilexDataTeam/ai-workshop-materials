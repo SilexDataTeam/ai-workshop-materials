{
 "cells": [
  {
   "cell_type": "code",
   "execution_count": null,
   "metadata": {},
   "outputs": [],
   "source": [
    "from langchain_openai import ChatOpenAI\n",
    "\n",
    "llm = ChatOpenAI(\n",
    "    base_url=\"http://localhost:8000/v1\",\n",
    "    model=\"meta-llama/Llama-3.2-3B-Instruct\",\n",
    "    api_key=\"abc1234\",\n",
    ")"
   ]
  },
  {
   "cell_type": "code",
   "execution_count": 3,
   "metadata": {},
   "outputs": [
    {
     "name": "stdout",
     "output_type": "stream",
     "text": [
      "content='Tennessee, known as the \"Volunteer State,\" has a rich and diverse history spanning thousands of years. The region was first inhabited by Native American tribes, including the Cherokee, Chickasaw, and Creek. In 1540, Spanish explorer Hernando de Soto became the first European to visit the area. In 1769, the British established the Colony of North Carolina, which included present-day Tennessee. The state\\'s name originated from the Iroquois word \"tanasi,\" meaning \"meeting place,\" which refers to the confluence of the Tennessee and Cumberland rivers. In 1796, the Southwest Territory was established, and in 1796, the first state constitution was adopted, paving the way for Tennessee\\'s statehood in 1796. Throughout its history, Tennessee has played a significant role in the Civil War, the music industry, and the Civil Rights Movement, earning its reputation as a unique and influential state in American history.' additional_kwargs={'refusal': None} response_metadata={'token_usage': {'completion_tokens': 194, 'prompt_tokens': 54, 'total_tokens': 248, 'completion_tokens_details': None, 'prompt_tokens_details': None}, 'model_name': 'meta-llama/Llama-3.2-3B-Instruct', 'system_fingerprint': None, 'finish_reason': 'stop', 'logprobs': None} id='run-9dd17925-d3b5-4596-97fd-4bd807d40319-0' usage_metadata={'input_tokens': 54, 'output_tokens': 194, 'total_tokens': 248, 'input_token_details': {}, 'output_token_details': {}}\n"
     ]
    }
   ],
   "source": [
    "from langchain_core.messages import HumanMessage, SystemMessage\n",
    "\n",
    "messages = [\n",
    "    SystemMessage(\"You are a helpful assistant.\"),\n",
    "    HumanMessage(\"Please give me a brief history of Tennessee in a single paragraph.\"),\n",
    "]\n",
    "\n",
    "print(llm.invoke(messages))"
   ]
  }
 ],
 "metadata": {
  "kernelspec": {
   "display_name": ".venv",
   "language": "python",
   "name": "python3"
  },
  "language_info": {
   "codemirror_mode": {
    "name": "ipython",
    "version": 3
   },
   "file_extension": ".py",
   "mimetype": "text/x-python",
   "name": "python",
   "nbconvert_exporter": "python",
   "pygments_lexer": "ipython3",
   "version": "3.12.3"
  }
 },
 "nbformat": 4,
 "nbformat_minor": 2
}
