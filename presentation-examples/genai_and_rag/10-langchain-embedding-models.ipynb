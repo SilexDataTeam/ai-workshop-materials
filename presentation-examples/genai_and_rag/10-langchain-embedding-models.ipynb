{
 "cells": [
  {
   "cell_type": "code",
   "execution_count": 2,
   "metadata": {},
   "outputs": [],
   "source": [
    "from langchain_openai import OpenAIEmbeddings\n",
    "\n",
    "embedding_model = OpenAIEmbeddings(model=\"text-embedding-3-large\")"
   ]
  },
  {
   "cell_type": "code",
   "execution_count": 4,
   "metadata": {},
   "outputs": [],
   "source": [
    "embedding = embedding_model.embed_query(\"Hello, world!\")"
   ]
  },
  {
   "cell_type": "code",
   "execution_count": 7,
   "metadata": {},
   "outputs": [
    {
     "name": "stdout",
     "output_type": "stream",
     "text": [
      "[-0.005865450482815504, -0.024112658575177193, -0.022020621225237846, 0.027614882215857506, -0.002742892364040017, -0.02045546844601631, -0.0026905913837254047, 0.05324620380997658, 0.025057949125766754, 0.023787230253219604, -0.004071722738444805, 0.017511120066046715, 0.003260090248659253, -0.0046605924144387245, -0.0026654095854610205, 0.03359655663371086, -0.033038679510354996, 0.016162918880581856, 0.0018799272365868092, -0.02969142235815525, 0.03043525665998459, -0.00902674999088049, -0.035239193588495255, 0.01238175667822361, 0.008546357043087482, 0.024050671607255936, 0.0014905760763213038, 0.0034305525477975607, -0.02825024165213108, -0.030807174742221832, 0.003953561652451754, 0.006926965434104204, 0.008089208044111729, 0.04648970067501068, 0.04642771556973457, 0.006907594855874777, 0.006760377436876297, 0.03217087313532829, 0.02432961016893387, 0.012575464323163033, 0.008104704320430756, 0.03852446377277374, -0.009739592671394348, 0.02620469406247139, 0.005187475588172674, 0.005644624587148428, 0.007686297409236431, 0.019122764468193054, 0.025801783427596092, -0.01924673654139042]\n"
     ]
    }
   ],
   "source": [
    "print(embedding[0:50])"
   ]
  },
  {
   "cell_type": "code",
   "execution_count": null,
   "metadata": {},
   "outputs": [
    {
     "data": {
      "text/plain": [
       "3072"
      ]
     },
     "execution_count": 8,
     "metadata": {},
     "output_type": "execute_result"
    }
   ],
   "source": [
    "len(embedding)"
   ]
  }
 ],
 "metadata": {
  "kernelspec": {
   "display_name": ".venv",
   "language": "python",
   "name": "python3"
  },
  "language_info": {
   "codemirror_mode": {
    "name": "ipython",
    "version": 3
   },
   "file_extension": ".py",
   "mimetype": "text/x-python",
   "name": "python",
   "nbconvert_exporter": "python",
   "pygments_lexer": "ipython3",
   "version": "3.11.10"
  }
 },
 "nbformat": 4,
 "nbformat_minor": 2
}
