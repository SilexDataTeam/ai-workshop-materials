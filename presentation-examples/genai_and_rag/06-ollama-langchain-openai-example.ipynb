{
 "cells": [
  {
   "cell_type": "code",
   "execution_count": 2,
   "metadata": {},
   "outputs": [],
   "source": [
    "from langchain_openai import ChatOpenAI"
   ]
  },
  {
   "cell_type": "code",
   "execution_count": 3,
   "metadata": {},
   "outputs": [],
   "source": [
    "llm = ChatOpenAI(base_url=\"http://localhost:11434/v1\", model=\"llama3.2:3b\")"
   ]
  },
  {
   "cell_type": "code",
   "execution_count": 4,
   "metadata": {},
   "outputs": [
    {
     "name": "stdout",
     "output_type": "stream",
     "text": [
      "content=\"Gravity is a fundamental force of nature that governs the behavior of objects with mass or energy, shaping the universe as we know it. It is a universal attraction that pulls two bodies towards each other, with the strength of the gravitational pull depending on the mass and distance between them. According to Albert Einstein's theory of general relativity, gravity is actually the curvature of spacetime caused by massive objects, which warps the fabric of space around them, creating a gravitational field that affects the motion of nearby matter. This force is what keeps planets in orbit around their stars, causes objects to fall towards the ground, and holds galaxies together, making it an essential component of our cosmos.\" additional_kwargs={'refusal': None} response_metadata={'token_usage': {'completion_tokens': 137, 'prompt_tokens': 40, 'total_tokens': 177, 'completion_tokens_details': None, 'prompt_tokens_details': None}, 'model_name': 'llama3.2', 'system_fingerprint': 'fp_ollama', 'finish_reason': 'stop', 'logprobs': None} id='run-aedff951-dcae-4c18-bf91-38c4f28b0a7f-0' usage_metadata={'input_tokens': 40, 'output_tokens': 137, 'total_tokens': 177, 'input_token_details': {}, 'output_token_details': {}}\n"
     ]
    }
   ],
   "source": [
    "from langchain_core.messages import HumanMessage, SystemMessage\n",
    "\n",
    "messages = [\n",
    "    SystemMessage(\"You are a helpful assistant.\"),\n",
    "    HumanMessage(\"Tell me about gravity in a single paragraph.\"),\n",
    "]\n",
    "\n",
    "print(llm.invoke(messages))"
   ]
  }
 ],
 "metadata": {
  "kernelspec": {
   "display_name": ".venv",
   "language": "python",
   "name": "python3"
  },
  "language_info": {
   "codemirror_mode": {
    "name": "ipython",
    "version": 3
   },
   "file_extension": ".py",
   "mimetype": "text/x-python",
   "name": "python",
   "nbconvert_exporter": "python",
   "pygments_lexer": "ipython3",
   "version": "3.11.10"
  }
 },
 "nbformat": 4,
 "nbformat_minor": 2
}
