{
 "cells": [
  {
   "cell_type": "code",
   "execution_count": 2,
   "metadata": {},
   "outputs": [],
   "source": [
    "from langchain import PromptTemplate\n",
    "from langchain_core.tools import tool\n",
    "from langchain_openai import ChatOpenAI\n",
    "\n",
    "# Database stub\n",
    "database = {\n",
    "    \"invoice_001\": {\n",
    "        \"supplier\": \"ABC Corp\",\n",
    "        \"amount\": 1500,\n",
    "        \"date\": \"2023-10-01\",\n",
    "        \"status\": \"Paid\",\n",
    "    },\n",
    "    \"invoice_002\": {\n",
    "        \"supplier\": \"XYZ Ltd\",\n",
    "        \"amount\": 2500,\n",
    "        \"date\": \"2023-10-05\",\n",
    "        \"status\": \"Pending\",\n",
    "    },\n",
    "}\n",
    "\n",
    "\n",
    "# Function to fetch invoice information from the database\n",
    "@tool\n",
    "def fetch_invoice_info(invoice_id):\n",
    "    \"\"\"Fetch invoice information from the database.\"\"\"\n",
    "    return database.get(invoice_id, \"Invoice not found\")\n",
    "\n",
    "\n",
    "# Define our tools list\n",
    "tools = [fetch_invoice_info]\n",
    "\n",
    "# Define the prompt template\n",
    "prompt_template = PromptTemplate(\n",
    "    input_variables=[\"invoice_id\"],\n",
    "    template=\"What's the status of invoice id {invoice_id}?\",\n",
    ")\n",
    "\n",
    "# Initialize the model\n",
    "llm = ChatOpenAI(model=\"gpt-4o\")\n",
    "llm_with_tools = llm.bind_tools(tools)\n",
    "\n",
    "# Call model w/ prompt and pass specific invoice_id\n",
    "response = llm_with_tools.invoke(prompt_template.format(invoice_id=\"invoice_001\"))"
   ]
  },
  {
   "cell_type": "code",
   "execution_count": 3,
   "metadata": {},
   "outputs": [
    {
     "name": "stdout",
     "output_type": "stream",
     "text": [
      "content='' additional_kwargs={'tool_calls': [{'id': 'call_da0Gdp96kKiQSUfuwJsbdxmv', 'function': {'arguments': '{\"invoice_id\":\"invoice_001\"}', 'name': 'fetch_invoice_info'}, 'type': 'function'}], 'refusal': None} response_metadata={'token_usage': {'completion_tokens': 18, 'prompt_tokens': 56, 'total_tokens': 74, 'completion_tokens_details': {'audio_tokens': None, 'reasoning_tokens': 0}, 'prompt_tokens_details': {'audio_tokens': None, 'cached_tokens': 0}}, 'model_name': 'gpt-4o-2024-08-06', 'system_fingerprint': 'fp_a7d06e42a7', 'finish_reason': 'tool_calls', 'logprobs': None} id='run-bd7f4272-19a3-42b5-acf5-7c73f9d5fa09-0' tool_calls=[{'name': 'fetch_invoice_info', 'args': {'invoice_id': 'invoice_001'}, 'id': 'call_da0Gdp96kKiQSUfuwJsbdxmv', 'type': 'tool_call'}] usage_metadata={'input_tokens': 56, 'output_tokens': 18, 'total_tokens': 74, 'input_token_details': {'cache_read': 0}, 'output_token_details': {'reasoning': 0}}\n"
     ]
    }
   ],
   "source": [
    "print(response)"
   ]
  },
  {
   "cell_type": "code",
   "execution_count": 4,
   "metadata": {},
   "outputs": [],
   "source": [
    "messages = [response]"
   ]
  },
  {
   "cell_type": "code",
   "execution_count": 5,
   "metadata": {},
   "outputs": [],
   "source": [
    "for tool_call in response.tool_calls:\n",
    "    selected_tool = {\"fetch_invoice_info\": fetch_invoice_info}[\n",
    "        tool_call[\"name\"].lower()\n",
    "    ]\n",
    "    tool_msg = selected_tool.invoke(tool_call)\n",
    "    messages.append(tool_msg)"
   ]
  },
  {
   "cell_type": "code",
   "execution_count": 6,
   "metadata": {},
   "outputs": [
    {
     "name": "stdout",
     "output_type": "stream",
     "text": [
      "[AIMessage(content='', additional_kwargs={'tool_calls': [{'id': 'call_da0Gdp96kKiQSUfuwJsbdxmv', 'function': {'arguments': '{\"invoice_id\":\"invoice_001\"}', 'name': 'fetch_invoice_info'}, 'type': 'function'}], 'refusal': None}, response_metadata={'token_usage': {'completion_tokens': 18, 'prompt_tokens': 56, 'total_tokens': 74, 'completion_tokens_details': {'audio_tokens': None, 'reasoning_tokens': 0}, 'prompt_tokens_details': {'audio_tokens': None, 'cached_tokens': 0}}, 'model_name': 'gpt-4o-2024-08-06', 'system_fingerprint': 'fp_a7d06e42a7', 'finish_reason': 'tool_calls', 'logprobs': None}, id='run-bd7f4272-19a3-42b5-acf5-7c73f9d5fa09-0', tool_calls=[{'name': 'fetch_invoice_info', 'args': {'invoice_id': 'invoice_001'}, 'id': 'call_da0Gdp96kKiQSUfuwJsbdxmv', 'type': 'tool_call'}], usage_metadata={'input_tokens': 56, 'output_tokens': 18, 'total_tokens': 74, 'input_token_details': {'cache_read': 0}, 'output_token_details': {'reasoning': 0}}), ToolMessage(content='{\"supplier\": \"ABC Corp\", \"amount\": 1500, \"date\": \"2023-10-01\", \"status\": \"Paid\"}', name='fetch_invoice_info', tool_call_id='call_da0Gdp96kKiQSUfuwJsbdxmv')]\n"
     ]
    }
   ],
   "source": [
    "print(messages)\n",
    "messages.append(llm_with_tools.invoke(messages))"
   ]
  },
  {
   "cell_type": "code",
   "execution_count": 7,
   "metadata": {},
   "outputs": [
    {
     "name": "stdout",
     "output_type": "stream",
     "text": [
      "[AIMessage(content='', additional_kwargs={'tool_calls': [{'id': 'call_da0Gdp96kKiQSUfuwJsbdxmv', 'function': {'arguments': '{\"invoice_id\":\"invoice_001\"}', 'name': 'fetch_invoice_info'}, 'type': 'function'}], 'refusal': None}, response_metadata={'token_usage': {'completion_tokens': 18, 'prompt_tokens': 56, 'total_tokens': 74, 'completion_tokens_details': {'audio_tokens': None, 'reasoning_tokens': 0}, 'prompt_tokens_details': {'audio_tokens': None, 'cached_tokens': 0}}, 'model_name': 'gpt-4o-2024-08-06', 'system_fingerprint': 'fp_a7d06e42a7', 'finish_reason': 'tool_calls', 'logprobs': None}, id='run-bd7f4272-19a3-42b5-acf5-7c73f9d5fa09-0', tool_calls=[{'name': 'fetch_invoice_info', 'args': {'invoice_id': 'invoice_001'}, 'id': 'call_da0Gdp96kKiQSUfuwJsbdxmv', 'type': 'tool_call'}], usage_metadata={'input_tokens': 56, 'output_tokens': 18, 'total_tokens': 74, 'input_token_details': {'cache_read': 0}, 'output_token_details': {'reasoning': 0}}), ToolMessage(content='{\"supplier\": \"ABC Corp\", \"amount\": 1500, \"date\": \"2023-10-01\", \"status\": \"Paid\"}', name='fetch_invoice_info', tool_call_id='call_da0Gdp96kKiQSUfuwJsbdxmv'), AIMessage(content='The invoice \"invoice_001\" is from the supplier ABC Corp, with an amount of $1500. It was issued on October 1, 2023, and the status is \"Paid\".', additional_kwargs={'refusal': None}, response_metadata={'token_usage': {'completion_tokens': 42, 'prompt_tokens': 100, 'total_tokens': 142, 'completion_tokens_details': {'audio_tokens': None, 'reasoning_tokens': 0}, 'prompt_tokens_details': {'audio_tokens': None, 'cached_tokens': 0}}, 'model_name': 'gpt-4o-2024-08-06', 'system_fingerprint': 'fp_a7d06e42a7', 'finish_reason': 'stop', 'logprobs': None}, id='run-181266b7-cbcd-40e4-a5a2-ef583f4d6d8d-0', usage_metadata={'input_tokens': 100, 'output_tokens': 42, 'total_tokens': 142, 'input_token_details': {'cache_read': 0}, 'output_token_details': {'reasoning': 0}})]\n"
     ]
    }
   ],
   "source": [
    "print(messages)"
   ]
  }
 ],
 "metadata": {
  "kernelspec": {
   "display_name": ".venv",
   "language": "python",
   "name": "python3"
  },
  "language_info": {
   "codemirror_mode": {
    "name": "ipython",
    "version": 3
   },
   "file_extension": ".py",
   "mimetype": "text/x-python",
   "name": "python",
   "nbconvert_exporter": "python",
   "pygments_lexer": "ipython3",
   "version": "3.11.10"
  }
 },
 "nbformat": 4,
 "nbformat_minor": 2
}
