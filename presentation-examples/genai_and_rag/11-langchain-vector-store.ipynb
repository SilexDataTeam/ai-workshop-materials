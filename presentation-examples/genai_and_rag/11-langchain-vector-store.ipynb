{
 "cells": [
  {
   "cell_type": "code",
   "execution_count": 1,
   "metadata": {},
   "outputs": [],
   "source": [
    "from langchain_core.documents import Document\n",
    "\n",
    "documents = [\n",
    "    Document(\n",
    "        page_content=\"\"\"\n",
    "        Artificial Intelligence (AI) is transform industries by enabling automation,echancing decision-making,\n",
    "        and providing personalized experiences. Maachine learning, a subset of AI, focuses on algorithms that\n",
    "        improve through experience.\"\"\",\n",
    "        metadata={\n",
    "            \"topic\": \"Artificial Intelligence\",\n",
    "            \"author\": \"Jane Doe\",\n",
    "            \"category\": \"Technology\"\n",
    "        }\n",
    "    ),\n",
    "    Document(\n",
    "        page_content=\"\"\"Machine learning algorithms, such as neural networks and decision trees, play a crucial\n",
    "        role in predictive analytics, which helps businesses anticipate trends and customer needs.\"\"\",\n",
    "        metadata={\n",
    "            \"topic\": \"Machine Learning\",\n",
    "            \"author\": \"John Smith\",\n",
    "            \"category\": \"Data Science\",\n",
    "        }\n",
    "    ),\n",
    "    Document(\n",
    "        page_content=\"\"\"Space exploration drives technological advances and inspires global collaboration.\n",
    "        Recent missions have focused on exploring Mars, studying asteroids, and preparing for future human settlement\n",
    "        beyond Earth.\"\"\",\n",
    "        metadata={\n",
    "            \"topic\": \"Space Exploration\",\n",
    "            \"author\": \"Alice Green\",\n",
    "            \"category\": \"Science\",\n",
    "        }\n",
    "    )\n",
    "]"
   ]
  },
  {
   "cell_type": "code",
   "execution_count": 10,
   "metadata": {},
   "outputs": [],
   "source": [
    "from langchain_core.vectorstores import InMemoryVectorStore\n",
    "from langchain_openai import OpenAIEmbeddings\n",
    "\n",
    "vector_store = InMemoryVectorStore(OpenAIEmbeddings(model=\"text-embedding-3-large\"))"
   ]
  },
  {
   "cell_type": "code",
   "execution_count": 11,
   "metadata": {},
   "outputs": [
    {
     "name": "stdout",
     "output_type": "stream",
     "text": [
      "['f626e435-9183-4e47-9675-815eb380541d', '5161cf46-f792-45b3-baac-1b264c797209', 'a2a9d2ac-d0ec-456c-8926-f52d850de522']\n"
     ]
    }
   ],
   "source": [
    "document_ids = vector_store.add_documents(documents)\n",
    "print(document_ids)"
   ]
  },
  {
   "cell_type": "code",
   "execution_count": 12,
   "metadata": {},
   "outputs": [
    {
     "name": "stdout",
     "output_type": "stream",
     "text": [
      "[Document(id='f626e435-9183-4e47-9675-815eb380541d', metadata={'topic': 'Artificial Intelligence', 'author': 'Jane Doe', 'category': 'Technology'}, page_content='\\n        Artificial Intelligence (AI) is transform industries by enabling automation,echancing decision-making,\\n        and providing personalized experiences. Maachine learning, a subset of AI, focuses on algorithms that\\n        improve through experience.'), Document(id='5161cf46-f792-45b3-baac-1b264c797209', metadata={'topic': 'Machine Learning', 'author': 'John Smith', 'category': 'Data Science'}, page_content='Machine learning algorithms, such as neural networks and decision trees, play a crucial\\n        role in predictive analytics, which helps businesses anticipate trends and customer needs.'), Document(id='a2a9d2ac-d0ec-456c-8926-f52d850de522', metadata={'topic': 'Space Exploration', 'author': 'Alice Green', 'category': 'Science'}, page_content='Space exploration drives technological advances and inspires global collaboration.\\n        Recent missions have focused on exploring Mars, studying asteroids, and preparing for future human settlement\\n        beyond Earth.')]\n"
     ]
    }
   ],
   "source": [
    "print(vector_store.get_by_ids(document_ids))"
   ]
  },
  {
   "cell_type": "code",
   "execution_count": null,
   "metadata": {},
   "outputs": [
    {
     "data": {
      "text/plain": [
       "[(Document(id='5161cf46-f792-45b3-baac-1b264c797209', metadata={'topic': 'Machine Learning', 'author': 'John Smith', 'category': 'Data Science'}, page_content='Machine learning algorithms, such as neural networks and decision trees, play a crucial\\n        role in predictive analytics, which helps businesses anticipate trends and customer needs.'),\n",
       "  0.25532489045589063),\n",
       " (Document(id='f626e435-9183-4e47-9675-815eb380541d', metadata={'topic': 'Artificial Intelligence', 'author': 'Jane Doe', 'category': 'Technology'}, page_content='\\n        Artificial Intelligence (AI) is transform industries by enabling automation,echancing decision-making,\\n        and providing personalized experiences. Maachine learning, a subset of AI, focuses on algorithms that\\n        improve through experience.'),\n",
       "  0.23192947040383627),\n",
       " (Document(id='a2a9d2ac-d0ec-456c-8926-f52d850de522', metadata={'topic': 'Space Exploration', 'author': 'Alice Green', 'category': 'Science'}, page_content='Space exploration drives technological advances and inspires global collaboration.\\n        Recent missions have focused on exploring Mars, studying asteroids, and preparing for future human settlement\\n        beyond Earth.'),\n",
       "  0.09505667074200577)]"
      ]
     },
     "execution_count": 19,
     "metadata": {},
     "output_type": "execute_result"
    }
   ],
   "source": [
    "vector_store.similarity_search_with_score(\"large language models\")"
   ]
  },
  {
   "cell_type": "code",
   "execution_count": 20,
   "metadata": {},
   "outputs": [
    {
     "data": {
      "text/plain": [
       "[(Document(id='a2a9d2ac-d0ec-456c-8926-f52d850de522', metadata={'topic': 'Space Exploration', 'author': 'Alice Green', 'category': 'Science'}, page_content='Space exploration drives technological advances and inspires global collaboration.\\n        Recent missions have focused on exploring Mars, studying asteroids, and preparing for future human settlement\\n        beyond Earth.'),\n",
       "  0.18930241577423668),\n",
       " (Document(id='5161cf46-f792-45b3-baac-1b264c797209', metadata={'topic': 'Machine Learning', 'author': 'John Smith', 'category': 'Data Science'}, page_content='Machine learning algorithms, such as neural networks and decision trees, play a crucial\\n        role in predictive analytics, which helps businesses anticipate trends and customer needs.'),\n",
       "  0.07173532128604364),\n",
       " (Document(id='f626e435-9183-4e47-9675-815eb380541d', metadata={'topic': 'Artificial Intelligence', 'author': 'Jane Doe', 'category': 'Technology'}, page_content='\\n        Artificial Intelligence (AI) is transform industries by enabling automation,echancing decision-making,\\n        and providing personalized experiences. Maachine learning, a subset of AI, focuses on algorithms that\\n        improve through experience.'),\n",
       "  0.06565459563741587)]"
      ]
     },
     "execution_count": 20,
     "metadata": {},
     "output_type": "execute_result"
    }
   ],
   "source": [
    "vector_store.similarity_search_with_score(\"pluto\")"
   ]
  },
  {
   "cell_type": "code",
   "execution_count": 21,
   "metadata": {},
   "outputs": [
    {
     "data": {
      "text/plain": [
       "[(Document(id='5161cf46-f792-45b3-baac-1b264c797209', metadata={'topic': 'Machine Learning', 'author': 'John Smith', 'category': 'Data Science'}, page_content='Machine learning algorithms, such as neural networks and decision trees, play a crucial\\n        role in predictive analytics, which helps businesses anticipate trends and customer needs.'),\n",
       "  0.556005538447961),\n",
       " (Document(id='f626e435-9183-4e47-9675-815eb380541d', metadata={'topic': 'Artificial Intelligence', 'author': 'Jane Doe', 'category': 'Technology'}, page_content='\\n        Artificial Intelligence (AI) is transform industries by enabling automation,echancing decision-making,\\n        and providing personalized experiences. Maachine learning, a subset of AI, focuses on algorithms that\\n        improve through experience.'),\n",
       "  0.4816053745045907),\n",
       " (Document(id='a2a9d2ac-d0ec-456c-8926-f52d850de522', metadata={'topic': 'Space Exploration', 'author': 'Alice Green', 'category': 'Science'}, page_content='Space exploration drives technological advances and inspires global collaboration.\\n        Recent missions have focused on exploring Mars, studying asteroids, and preparing for future human settlement\\n        beyond Earth.'),\n",
       "  0.13092313590321908)]"
      ]
     },
     "execution_count": 21,
     "metadata": {},
     "output_type": "execute_result"
    }
   ],
   "source": [
    "vector_store.similarity_search_with_score(\"ML algorithms\")"
   ]
  },
  {
   "cell_type": "code",
   "execution_count": null,
   "metadata": {},
   "outputs": [],
   "source": []
  }
 ],
 "metadata": {
  "kernelspec": {
   "display_name": ".venv",
   "language": "python",
   "name": "python3"
  },
  "language_info": {
   "codemirror_mode": {
    "name": "ipython",
    "version": 3
   },
   "file_extension": ".py",
   "mimetype": "text/x-python",
   "name": "python",
   "nbconvert_exporter": "python",
   "pygments_lexer": "ipython3",
   "version": "3.11.10"
  }
 },
 "nbformat": 4,
 "nbformat_minor": 2
}
