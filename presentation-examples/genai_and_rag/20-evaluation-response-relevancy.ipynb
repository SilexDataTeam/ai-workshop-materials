{
 "cells": [
  {
   "cell_type": "code",
   "execution_count": 4,
   "metadata": {},
   "outputs": [
    {
     "data": {
      "text/plain": [
       "0.937824691952542"
      ]
     },
     "execution_count": 4,
     "metadata": {},
     "output_type": "execute_result"
    }
   ],
   "source": [
    "from langchain_openai.chat_models import ChatOpenAI\n",
    "from langchain_openai.embeddings import OpenAIEmbeddings\n",
    "from ragas import SingleTurnSample\n",
    "from ragas.embeddings import LangchainEmbeddingsWrapper\n",
    "from ragas.llms import LangchainLLMWrapper\n",
    "from ragas.metrics import ResponseRelevancy\n",
    "\n",
    "evaluator_llm = LangchainLLMWrapper(ChatOpenAI(model=\"gpt-4o-mini\"))\n",
    "embeddings = LangchainEmbeddingsWrapper(\n",
    "    OpenAIEmbeddings(model=\"text-embedding-3-small\")\n",
    ")\n",
    "\n",
    "response_relevancy = ResponseRelevancy(llm=evaluator_llm, embeddings=embeddings)\n",
    "\n",
    "sample = SingleTurnSample(\n",
    "    user_input=\"What is the capital of Tennessee?\",\n",
    "    reference=\"Nashville is the capital of Tennessee.\",\n",
    "    response=\"Nashville is located in Middle Tennessee and is the capital of Tennessee.\",\n",
    ")\n",
    "\n",
    "response_relevancy.single_turn_score(sample)"
   ]
  },
  {
   "cell_type": "code",
   "execution_count": 5,
   "metadata": {},
   "outputs": [
    {
     "data": {
      "text/plain": [
       "0.5635420937973411"
      ]
     },
     "execution_count": 5,
     "metadata": {},
     "output_type": "execute_result"
    }
   ],
   "source": [
    "sample = SingleTurnSample(\n",
    "    user_input=\"What is the capital of Tennessee?\",\n",
    "    reference=\"Nashville is the capital of Tennessee.\",\n",
    "    response=\"Nashville was founded in 1779 as Fort Nashborough.\",\n",
    ")\n",
    "\n",
    "response_relevancy.single_turn_score(sample)"
   ]
  },
  {
   "cell_type": "code",
   "execution_count": 6,
   "metadata": {},
   "outputs": [
    {
     "data": {
      "text/plain": [
       "0.4360631514170786"
      ]
     },
     "execution_count": 6,
     "metadata": {},
     "output_type": "execute_result"
    }
   ],
   "source": [
    "sample = SingleTurnSample(\n",
    "    user_input=\"What is the capital of Tennessee?\",\n",
    "    reference=\"Nashville is the capital of Tennessee.\",\n",
    "    response=\"Memphis was founded in 1819.\",\n",
    ")\n",
    "\n",
    "response_relevancy.single_turn_score(sample)"
   ]
  }
 ],
 "metadata": {
  "kernelspec": {
   "display_name": ".venv",
   "language": "python",
   "name": "python3"
  },
  "language_info": {
   "codemirror_mode": {
    "name": "ipython",
    "version": 3
   },
   "file_extension": ".py",
   "mimetype": "text/x-python",
   "name": "python",
   "nbconvert_exporter": "python",
   "pygments_lexer": "ipython3",
   "version": "3.11.11"
  }
 },
 "nbformat": 4,
 "nbformat_minor": 2
}
