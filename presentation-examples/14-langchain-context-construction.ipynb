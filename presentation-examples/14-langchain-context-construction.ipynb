{
 "cells": [
  {
   "cell_type": "code",
   "execution_count": 1,
   "metadata": {},
   "outputs": [],
   "source": [
    "from langchain_community.document_loaders import WikipediaLoader\n",
    "from langchain_core.messages import HumanMessage, SystemMessage\n",
    "from langchain_core.vectorstores import InMemoryVectorStore\n",
    "from langchain_openai.chat_models import ChatOpenAI\n",
    "from langchain_openai.embeddings import OpenAIEmbeddings\n",
    "from langchain_text_splitters import RecursiveCharacterTextSplitter"
   ]
  },
  {
   "cell_type": "code",
   "execution_count": 2,
   "metadata": {},
   "outputs": [],
   "source": [
    "loader = WikipediaLoader(query=\"nashville, tennessee\")\n",
    "documents = loader.load()"
   ]
  },
  {
   "cell_type": "code",
   "execution_count": 3,
   "metadata": {},
   "outputs": [],
   "source": [
    "text_splitter = RecursiveCharacterTextSplitter(chunk_size=1000, chunk_overlap=100)\n",
    "\n",
    "split_documents = text_splitter.split_documents(documents)"
   ]
  },
  {
   "cell_type": "code",
   "execution_count": 4,
   "metadata": {},
   "outputs": [
    {
     "data": {
      "text/plain": [
       "['abb6feb8-aa8b-4ac8-8824-1a390b9ee891',\n",
       " 'db75c898-5b7d-40ef-86e9-302ba429d389',\n",
       " '83279083-43e6-46d3-a01d-868b1f83d8fb',\n",
       " 'dc2c73a4-e7e5-4e8b-9e50-53823c6f42de',\n",
       " 'dc52ec34-aa17-401f-8ff6-1b8e49828e12',\n",
       " '691fec94-88c2-4b0c-842a-edec12bc27f3',\n",
       " '626d6651-72dc-45a8-917c-a9db776223c6',\n",
       " '71ab1ddc-6a21-4769-80ee-5d3c3112cdca',\n",
       " 'e8ea2cdf-529a-4e6e-a17b-908ac888a6e4',\n",
       " 'db3ebeed-0888-4bf7-aa5e-13356bf8784d',\n",
       " 'a48d093e-2514-4cdb-a7f2-f3f261835339',\n",
       " '2d536a13-be11-4c59-ace8-c5587751d85c',\n",
       " 'a5e76d7d-3e31-4930-8a27-4e261dd879d8',\n",
       " '25734c07-d8fc-41af-a9c2-6518faa59b5a',\n",
       " 'f7434bb9-170d-4cf3-97f9-16a510940c15',\n",
       " '644ea79a-66ce-4b71-a4ec-e506de14e643',\n",
       " 'e83f018c-a2c4-4593-916f-40ff007f16ba',\n",
       " 'c1d997f0-cc97-4136-91c8-37a4fb700b2c',\n",
       " '71f0de57-743b-4230-92d3-58862daecb0b',\n",
       " '4c9400e5-4750-4b93-bf68-4f19211963d9',\n",
       " '99b38c8f-184b-4834-b689-cd5910400649',\n",
       " '2bf46cf1-0896-4fb3-b47c-afddc6f59945',\n",
       " 'd05059b7-13b2-4434-9e16-1af067f061dc',\n",
       " 'dedacec9-bd4f-4201-8db3-019ab7510a01',\n",
       " 'a817f703-3b38-45a1-872e-c88627296c8e',\n",
       " '80ca3fa2-f061-4177-979e-41a89cd5961e',\n",
       " '21f6a3ab-0032-4e39-a2cc-388cfa57bd8c',\n",
       " 'bc02c2ad-420c-4361-9344-1a39b4706955',\n",
       " '9f9cb2bd-1ad8-43eb-b936-8937e457337f',\n",
       " 'b82d029a-972e-412c-93b9-8cbe52b164dc',\n",
       " 'd669cc2a-5cd8-41fb-a11a-d994618fba6a',\n",
       " '785dc3cd-bd17-43ac-bd31-c344b3aa1001',\n",
       " '56efbc82-d628-40bf-9d74-af5c12df708f',\n",
       " 'f8b93a50-edbb-428c-99d4-ff52825f270d',\n",
       " 'fcf413e9-ce07-43bf-8453-1ec396a508f4',\n",
       " 'c5364572-1331-4090-8b53-9af32b81f932',\n",
       " 'f4795085-e195-4976-bdb2-093fc7ea6fa3',\n",
       " '368dd0fe-8a6a-4dee-a19c-38a5e99ad599',\n",
       " 'e050d866-5168-485f-ad60-df85a09bcc5b',\n",
       " '9352f59c-483b-4e3a-a57c-d84bf439299e',\n",
       " 'f9fe9851-6161-4e13-9038-d7fdacb9f029',\n",
       " '399aca8b-d2ab-4ae5-b521-438ecb148944',\n",
       " '2751640b-72d3-4e8b-a512-2c7a18352088',\n",
       " '245ed552-000d-4854-8c1f-3f5fa6948fb6',\n",
       " 'ecec619a-f8b5-4d62-8738-c16670443d64',\n",
       " '938cfc8f-56f3-4152-a961-f1a9705140c9',\n",
       " '6eb44ba2-c4f6-42d2-99fa-4ce13e5be0a2',\n",
       " '205379c8-d661-4f6d-bd2f-991c55624706',\n",
       " 'b5fff366-dda3-4cdd-bbdb-646cfb2ca011',\n",
       " '6f189438-6f84-4b68-bfc3-1875f80a9469',\n",
       " 'a9b47d8c-1ff4-4377-ab54-89fa9f01dc76',\n",
       " '4d7fa5b8-8891-47a9-baa3-3b114943b6ef',\n",
       " '8bfdac55-4f98-46e9-bffd-faea44241d9f',\n",
       " 'dc7b7ccb-620a-469c-922a-3991d4a818b2',\n",
       " '3f0441a7-a976-4741-8386-0a57808fa116',\n",
       " '4744c959-f4d1-4634-855d-2c59cd4abb53',\n",
       " 'df1c0e9c-23b5-4868-8579-07900bde5550',\n",
       " 'e8b6525d-8425-4dea-8dfb-e1a6ac54db42',\n",
       " '021049db-dba6-47c4-bb95-b028fb309358',\n",
       " 'ed85014e-d92c-4063-8623-1af58fb0c176',\n",
       " '2e627f43-6c71-4840-93b6-d450fcef2758',\n",
       " 'a4694d89-2a4e-45eb-aa88-a1e822ba0a37',\n",
       " 'd963ad0f-7116-41df-b8e3-901fcf0189a1',\n",
       " 'a12e9c52-94c7-431d-ad88-c2a544fce6d9',\n",
       " 'ea205cb0-4ba1-451f-a96a-d5c0f7824c4d',\n",
       " '97541465-df6c-408a-a0d3-adfdae175669',\n",
       " 'dce385b2-548a-4edb-96f5-d70235786fe1',\n",
       " 'f811e1c0-aaee-49a9-a3f2-5c52ee639dc6',\n",
       " '7bdf6d65-6d2d-422b-9d71-15b86210fccd',\n",
       " '60173563-1342-42a6-9c76-c929618bce3c',\n",
       " 'f643f6a6-13d3-4197-a097-0276f6b2d4c1',\n",
       " '17f08d3f-b27c-4ad1-8c3f-77b961d19ca5',\n",
       " 'd3b39e15-e00e-4925-ba91-b9ece849de6d',\n",
       " 'cd0b73e6-7f8d-4a45-b6b6-5798cea46ad5',\n",
       " '06df5ef1-7e25-4f59-bb3a-4d019f5b4da8',\n",
       " '24dd3069-a7f3-49ef-858b-ea0909f3cd7a',\n",
       " '482026e5-cbe0-4635-a256-f00cb8fc9c13',\n",
       " '0a91e138-1409-4f4a-ac42-eb8d81aca0a0',\n",
       " '0c562d9f-cf5b-4dff-826a-0657653aa9d5',\n",
       " '205f4989-27e0-43a1-b42e-e7e50034ba75',\n",
       " '5b7ea138-23e5-4657-9002-c64aab66c560',\n",
       " '31be222e-23df-4669-8ef5-63e6dcde051d',\n",
       " '2f5e0d01-7936-4539-9bc6-393081f040db',\n",
       " '47586947-7ba8-4d57-85c5-000407819115',\n",
       " 'cf184f83-c848-4d05-a67b-f38201b28e06',\n",
       " 'd0b52ad6-05a6-46eb-ba6d-c9b3c54dfb25',\n",
       " '087b1b70-6c71-4f6e-aeb9-a5f9fcf7d151',\n",
       " 'af5188b7-8331-4bdb-8607-d2a3ac4fc774',\n",
       " 'a7340137-f638-479d-ad55-bf55b9f1a8b9',\n",
       " 'aeac645a-8aff-4958-b5aa-dd5b6bbae082',\n",
       " '3b04becb-b808-4f76-80ea-254ef03dadd0',\n",
       " 'd681fbdc-f3b4-4bcd-946b-bec032ecc029',\n",
       " '0deda907-1057-47bf-8d2a-663a47f47ffb',\n",
       " '7f4bad0c-46a7-435e-b82e-dca39e70da64',\n",
       " '336c81ea-172a-42b9-986a-cfe470e9f04d',\n",
       " 'd67acd9a-d105-4e40-ade3-0526403e4f32',\n",
       " '9e26d2ec-ef09-4e5d-b200-d9b527203128',\n",
       " '93c81bb8-bb5e-4239-aee1-ce22f6491b93',\n",
       " 'a776d18c-60f1-4951-85fd-db6dcfb6b07f',\n",
       " '69c35b27-76d4-4d36-8e77-0007d34b4305',\n",
       " '17f3f21c-7f7a-43ba-89a5-3916b1a65e87',\n",
       " 'fda21f51-3f65-41c3-9e45-062a27327fbc',\n",
       " '65bd2198-4b9c-4d00-ae61-6c41d80b9191',\n",
       " '61bbbb0b-1c79-464a-ad06-095fdb8b9293',\n",
       " '60a2a2e6-60f9-4bbb-b862-10d3cbcae2bc',\n",
       " '8d74ebb1-9e32-48f1-8f9d-8e04adac01c0',\n",
       " 'a06771a1-84a4-4e61-a54a-2fe620ae0120',\n",
       " '8101ec1f-f14f-4395-9eee-32e2e0da2fa1',\n",
       " 'e583f708-4ee6-4cd4-9435-8347439d667b',\n",
       " '681bc804-a065-465e-817a-7e11c9647cdb',\n",
       " 'ba2a8c7b-f274-4b3b-b160-40a5ee18b402',\n",
       " '05411152-629c-4af5-be38-5438f0634e17',\n",
       " '17da7c47-eaff-48a2-915e-c9790d1a5962',\n",
       " 'b55d5e10-f6e5-4f6d-af93-cd78c4cbdf12',\n",
       " 'fe7fa84a-7e0f-49c3-bdaf-a7a6b889b919',\n",
       " '496559d5-0af4-4a2b-93a5-98e91e6014fb',\n",
       " '6e6cf7a7-3de2-4624-af2b-90e682aecfaf',\n",
       " '0c3b465f-1343-4e19-bb1c-31b53ad39c66',\n",
       " '0ef0d04b-e6cc-40ee-ace6-c8c645db3ff1',\n",
       " '6f5e0e5f-6f05-4238-a3b5-44ea3be87718',\n",
       " '9af27484-6c83-4270-8451-187bd27262dc',\n",
       " '420c0050-750a-4d5a-b349-cfba4f3ac865',\n",
       " '257a77f4-51a4-4976-97bf-a2cf1563fe8f',\n",
       " '6a8b39ef-d018-40da-9110-c7b8b4a65de6',\n",
       " '3a282294-687b-441f-b934-1b751cdadd47',\n",
       " 'a7f7fa67-8e13-485a-b3da-0ab84a8975a1',\n",
       " '86be7982-191c-4074-8181-9b311df1ee05',\n",
       " '840f8a99-656d-432d-baa8-286cf396cc55',\n",
       " '8edc1089-9ef9-4056-add2-57adef3dfd73',\n",
       " 'd505c22e-9f48-4dab-8d07-3df934eb21c8',\n",
       " '90879a3f-0f84-4c51-aa5b-6426df3a7e56',\n",
       " '7323f79c-a74e-4749-94a3-a60a9fd4dc74',\n",
       " '746b7a4f-cdf0-49eb-a531-eb8bbcbcea55',\n",
       " '056ed4c3-4c8b-49d5-af35-56914e98cdd5',\n",
       " '05347e97-5e24-40cd-8606-d48369cdbdef',\n",
       " '1b8f11d9-e8dd-4c45-a6a4-6fdc208e7f3c',\n",
       " '1fd56e56-b00f-42db-8f6c-da3cdd92bc43',\n",
       " 'c53534d2-a611-4db9-93d2-c94c3f84c733',\n",
       " '5096968d-5c54-4316-ae62-2b1f984351f0',\n",
       " 'a7d74f8d-59f5-42be-beda-c84768a932d3',\n",
       " '45764032-4601-4b2b-a4dc-cac0662712b6',\n",
       " 'bad82b22-d65c-4994-af75-79811a301d4d',\n",
       " '02967df8-6921-41df-b9d6-cd03793fbe3a',\n",
       " '13a001a2-beb1-43b8-ad8b-d8e5d1df59de',\n",
       " '23453765-5745-431f-8d0e-708194eba44f',\n",
       " 'a3bdefd6-d645-4188-87f5-8d26617e0e85',\n",
       " '89c6df21-561c-4f40-a0c4-9d1f6c563fce']"
      ]
     },
     "execution_count": 4,
     "metadata": {},
     "output_type": "execute_result"
    }
   ],
   "source": [
    "embedding = OpenAIEmbeddings(model=\"text-embedding-3-small\")\n",
    "\n",
    "vector_store = InMemoryVectorStore(embedding=embedding)\n",
    "\n",
    "vector_store.add_documents(split_documents)"
   ]
  },
  {
   "cell_type": "code",
   "execution_count": 5,
   "metadata": {},
   "outputs": [
    {
     "data": {
      "text/plain": [
       "AIMessage(content=\"I'm sorry, but I cannot provide information that is not included in the context provided.\", additional_kwargs={'refusal': None}, response_metadata={'token_usage': {'completion_tokens': 18, 'prompt_tokens': 55, 'total_tokens': 73, 'completion_tokens_details': {'audio_tokens': 0, 'reasoning_tokens': 0, 'accepted_prediction_tokens': 0, 'rejected_prediction_tokens': 0}, 'prompt_tokens_details': {'audio_tokens': 0, 'cached_tokens': 0}}, 'model_name': 'gpt-4o-mini-2024-07-18', 'system_fingerprint': 'fp_0aa8d3e20b', 'finish_reason': 'stop', 'logprobs': None}, id='run-8f0ef277-0ed7-4a2b-9a4a-88af644164ff-0', usage_metadata={'input_tokens': 55, 'output_tokens': 18, 'total_tokens': 73, 'input_token_details': {'audio': 0, 'cache_read': 0}, 'output_token_details': {'audio': 0, 'reasoning': 0}})"
      ]
     },
     "execution_count": 5,
     "metadata": {},
     "output_type": "execute_result"
    }
   ],
   "source": [
    "llm = ChatOpenAI(model=\"gpt-4o-mini\")\n",
    "\n",
    "system_prompt = (\n",
    "    \"You are a helpful assistant that answers questions based only on the provided context. \"\n",
    "    \"If the question cannot be sourced based on the provided context, then politely refuse to answer the question. \"\n",
    ")\n",
    "\n",
    "query = \"What is the capitol of Tennessee?\"\n",
    "\n",
    "messages = [SystemMessage(content=system_prompt), HumanMessage(content=query)]\n",
    "\n",
    "llm.invoke(messages)"
   ]
  },
  {
   "cell_type": "code",
   "execution_count": 6,
   "metadata": {},
   "outputs": [
    {
     "data": {
      "text/plain": [
       "[SystemMessage(content='You are a helpful assistant that answers questions based only on the provided context. If the question cannot be sourced based on the provided context, then politely refuse to answer the question. ', additional_kwargs={}, response_metadata={}),\n",
       " HumanMessage(content='What is the capitol of Tennessee?', additional_kwargs={}, response_metadata={}),\n",
       " HumanMessage(content='context: [Document(id=\\'b5fff366-dda3-4cdd-bbdb-646cfb2ca011\\', metadata={\\'title\\': \\'Tennessee\\', \\'summary\\': \\'Tennessee ( , locally ), officially the State of Tennessee, is a landlocked state in the Southeastern region of the United States. It borders Kentucky to the north, Virginia to the northeast, North Carolina to the east, Georgia, Alabama, and Mississippi to the south, Arkansas to the southwest, and Missouri to the northwest. Tennessee is the 36th-largest by area and the 15th-most populous of the 50 states. According to the United States Census Bureau, the state\\\\\\'s estimated population as of 2024 is 7.22 million.\\\\nTennessee is geographically, culturally, and legally divided into three Grand Divisions of East, Middle, and West Tennessee. Nashville is the state\\\\\\'s capital and largest city, and anchors its largest metropolitan area. Tennessee has diverse terrain and landforms, and from east to west, contains a mix of cultural features characteristic of Appalachia, the Upland South, and the Deep South. The Blue Ridge Mountains along the eastern border reach some of the highest elevations in eastern North America, and the Cumberland Plateau contains many scenic valleys and waterfalls. The central part of the state is marked by cavernous bedrock and irregular rolling hills, and level, fertile plains define West Tennessee. The state is twice bisected by the Tennessee River, and the Mississippi River forms its western border. The Great Smoky Mountains National Park, the nation\\\\\\'s most visited national park, is in eastern Tennessee.\\\\nTennessee is rooted in the Watauga Association, a 1772 frontier pact generally regarded as the first constitutional government west of the Appalachian Mountains. Its name derives from Tanasi (ᏔᎾᏏ), a Cherokee town preceding the first European American settlement. Tennessee was initially part of North Carolina, and later the Southwest Territory, before its admission to the Union as the 16th state on June 1, 1796. It earned the nickname \"The Volunteer State\" due to a strong tradition of military service. A slave state until the American Civil War, Tennessee was politically divided, with most of its western and middle parts supporting the Confederacy, and most of the eastern region harboring pro-Union sentiment. As a result, Tennessee was the last state to officially secede from the Union and join the Confederacy, and the first former Confederate state readmitted to the Union after the war had ended during the Reconstruction era.\\\\nDuring the 20th century, Tennessee transitioned from a predominantly agrarian society to a more diversified economy. This was aided in part by massive federal investment in the Tennessee Valley Authority (TVA) and the city of Oak Ridge, which was established during World War II to house the Manhattan Project\\\\\\'s uranium enrichment facilities for the construction of the world\\\\\\'s first atomic bombs. After the war, the Oak Ridge National Laboratory became a key center of scientific research. The state\\\\\\'s economy is dominated by the health care, music, finance, automotive, chemical, electronics, and tourism sectors, and cattle, soybeans, poultry, corn, and cotton are its primary agricultural products. Tennessee has played a major role in the development of many forms of popular music, including country, blues, rock and roll, soul, and gospel.\\\\n\\\\n\\', \\'source\\': \\'https://en.wikipedia.org/wiki/Tennessee\\'}, page_content=\"Tennessee is geographically, culturally, and legally divided into three Grand Divisions of East, Middle, and West Tennessee. Nashville is the state\\'s capital and largest city, and anchors its largest metropolitan area. Tennessee has diverse terrain and landforms, and from east to west, contains a mix of cultural features characteristic of Appalachia, the Upland South, and the Deep South. The Blue Ridge Mountains along the eastern border reach some of the highest elevations in eastern North America, and the Cumberland Plateau contains many scenic valleys and waterfalls. The central part of the state is marked by cavernous bedrock and irregular rolling hills, and level, fertile plains define West Tennessee. The state is twice bisected by the Tennessee River, and the Mississippi River forms its western border. The Great Smoky Mountains National Park, the nation\\'s most visited national park, is in eastern Tennessee.\"), Document(id=\\'c5364572-1331-4090-8b53-9af32b81f932\\', metadata={\\'title\\': \\'History of Nashville, Tennessee\\', \\'summary\\': \\'This article pertains to the history of Nashville, the state capital of Tennessee. What is now Nashville was the center of civilization for the Mississippian  culture around 1300.  In 1779, Fort Nashborough was built here in 1779 by pioneers from North Carolina. In 1784 it was incorporated as a town by the North Carolina legislature. The Southwest Territory became the state of Tennessee in 1796 and Nashville became an incorporated city in 1806. In 1843 it became the state capital of Tennessee.  In the Civil War Nashville was seized by Federal troops in 1862 and became a  major Union military base. Confederate General J. B. Hood was decisively defeated in the Battle of Nashville in 1864. The city became the political, transportation, business and cultural center of the Middle Tennessee region.  Besides the state government, it is best known for its educational, musical and religious establishments. In 1963 Nashville and Davidson County were consolidated under a single charter and are administered by a mayor and a council.\\\\n\\\\n\\', \\'source\\': \\'https://en.wikipedia.org/wiki/History_of_Nashville,_Tennessee\\'}, page_content=\\'This article pertains to the history of Nashville, the state capital of Tennessee. What is now Nashville was the center of civilization for the Mississippian  culture around 1300.  In 1779, Fort Nashborough was built here in 1779 by pioneers from North Carolina. In 1784 it was incorporated as a town by the North Carolina legislature. The Southwest Territory became the state of Tennessee in 1796 and Nashville became an incorporated city in 1806. In 1843 it became the state capital of Tennessee.  In the Civil War Nashville was seized by Federal troops in 1862 and became a  major Union military base. Confederate General J. B. Hood was decisively defeated in the Battle of Nashville in 1864. The city became the political, transportation, business and cultural center of the Middle Tennessee region.  Besides the state government, it is best known for its educational, musical and religious establishments. In 1963 Nashville and Davidson County were consolidated under a single charter and are\\'), Document(id=\\'abb6feb8-aa8b-4ac8-8824-1a390b9ee891\\', metadata={\\'title\\': \\'Nashville, Tennessee\\', \\'summary\\': \\'Nashville, often known as Music City, is the capital and most populous city in the U.S. state of Tennessee and the county seat of Davidson County. Located in Middle Tennessee, it had a population of 689,447 at the 2020 U.S. census. Nashville is the 21st most populous city in the United States, and the fourth most populous city in the southeastern U.S. Located on the Cumberland River, the city is the center of the Nashville metropolitan area, and is one of the fastest growing in the nation.\\\\nNamed for Francis Nash, a general of the Continental Army during the American Revolutionary War, the city was founded in 1779 when this territory was still considered part of North Carolina. The city grew quickly due to its strategic location as a port on the Cumberland River and, in the 19th century, a railroad center. Nashville as part of Tennessee seceded during the American Civil War; in 1862 it was the first state capital in the Confederacy to be taken by Union forces. It was occupied through the war. After the war, the city gradually reclaimed its stature. It became a center of trade and developed a manufacturing base.\\\\nSince 1963, Nashville has had a consolidated city-county government, which includes six smaller municipalities in a two-tier system. The city is governed by a mayor, a vice-mayor, and a 40-member metropolitan council. Some 35 of the members are elected from single-member districts, while five are elected at-large. Reflecting the city\\\\\\'s position in state government, Nashville is home to the Tennessee Supreme Court\\\\\\'s courthouse for Middle Tennessee, one of the state\\\\\\'s three divisions.\\\\nAs of 2020, Nashville is considered a global city, type \"Gamma\" by the GaWC. The city is a major center for the music industry, especially country music. It is home to three major professional sports teams: the Predators, Titans, and Nashville SC. The city is also the home of many colleges and universities including Tennessee State University, Vanderbilt University, Belmont University, Fisk University, Trevecca Nazarene University, and Lipscomb University. Nashville is sometimes referred to as the \"Athens of the South\" due to the large number of educational institutions. The city is also a major center for the healthcare, publishing, banking, automotive, and technology industries. Entities with headquarters in the city include AllianceBernstein, Asurion, Bridgestone Americas, Captain D\\\\\\'s, Concord, Gideons International, Hospital Corporation of America, LifeWay Christian Resources, Logan\\\\\\'s Roadhouse, and Ryman Hospitality Properties.\\', \\'source\\': \\'https://en.wikipedia.org/wiki/Nashville,_Tennessee\\'}, page_content=\\'Nashville, often known as Music City, is the capital and most populous city in the U.S. state of Tennessee and the county seat of Davidson County. Located in Middle Tennessee, it had a population of 689,447 at the 2020 U.S. census. Nashville is the 21st most populous city in the United States, and the fourth most populous city in the southeastern U.S. Located on the Cumberland River, the city is the center of the Nashville metropolitan area, and is one of the fastest growing in the nation.\\'), Document(id=\\'626d6651-72dc-45a8-917c-a9db776223c6\\', metadata={\\'title\\': \\'Nashville, Tennessee\\', \\'summary\\': \\'Nashville, often known as Music City, is the capital and most populous city in the U.S. state of Tennessee and the county seat of Davidson County. Located in Middle Tennessee, it had a population of 689,447 at the 2020 U.S. census. Nashville is the 21st most populous city in the United States, and the fourth most populous city in the southeastern U.S. Located on the Cumberland River, the city is the center of the Nashville metropolitan area, and is one of the fastest growing in the nation.\\\\nNamed for Francis Nash, a general of the Continental Army during the American Revolutionary War, the city was founded in 1779 when this territory was still considered part of North Carolina. The city grew quickly due to its strategic location as a port on the Cumberland River and, in the 19th century, a railroad center. Nashville as part of Tennessee seceded during the American Civil War; in 1862 it was the first state capital in the Confederacy to be taken by Union forces. It was occupied through the war. After the war, the city gradually reclaimed its stature. It became a center of trade and developed a manufacturing base.\\\\nSince 1963, Nashville has had a consolidated city-county government, which includes six smaller municipalities in a two-tier system. The city is governed by a mayor, a vice-mayor, and a 40-member metropolitan council. Some 35 of the members are elected from single-member districts, while five are elected at-large. Reflecting the city\\\\\\'s position in state government, Nashville is home to the Tennessee Supreme Court\\\\\\'s courthouse for Middle Tennessee, one of the state\\\\\\'s three divisions.\\\\nAs of 2020, Nashville is considered a global city, type \"Gamma\" by the GaWC. The city is a major center for the music industry, especially country music. It is home to three major professional sports teams: the Predators, Titans, and Nashville SC. The city is also the home of many colleges and universities including Tennessee State University, Vanderbilt University, Belmont University, Fisk University, Trevecca Nazarene University, and Lipscomb University. Nashville is sometimes referred to as the \"Athens of the South\" due to the large number of educational institutions. The city is also a major center for the healthcare, publishing, banking, automotive, and technology industries. Entities with headquarters in the city include AllianceBernstein, Asurion, Bridgestone Americas, Captain D\\\\\\'s, Concord, Gideons International, Hospital Corporation of America, LifeWay Christian Resources, Logan\\\\\\'s Roadhouse, and Ryman Hospitality Properties.\\', \\'source\\': \\'https://en.wikipedia.org/wiki/Nashville,_Tennessee\\'}, page_content=\\'In 1779, explorers James Robertson and John Donelson led a party of Overmountain Men to the site of French Lick, and constructed Fort Nashborough. It was named for Francis Nash, the American Revolutionary War hero. Nashville quickly grew because of its strategic location as a port on the Cumberland River, a tributary of the Ohio River; and its later status as a major railroad center. By 1800, the city had 345 residents, including 136 enslaved African Americans and 14 free African Americans. In 1806, Nashville was incorporated as a city and became the county seat of Davidson County, Tennessee. In 1843, the city was named as the permanent capital of the state of Tennessee.  Knoxville, Kingston & Murfreesboro were prior locations of the state capital.\\\\nThe city government of Nashville owned 24 slaves by 1831, and 60 prior to the Civil War. They were \"put to work to build the fir\\')]', additional_kwargs={}, response_metadata={})]"
      ]
     },
     "execution_count": 6,
     "metadata": {},
     "output_type": "execute_result"
    }
   ],
   "source": [
    "results = vector_store.similarity_search(query)\n",
    "\n",
    "messages.append(HumanMessage(content=f\"context: {results}\"))\n",
    "\n",
    "messages"
   ]
  },
  {
   "cell_type": "code",
   "execution_count": null,
   "metadata": {},
   "outputs": [],
   "source": []
  }
 ],
 "metadata": {
  "kernelspec": {
   "display_name": ".venv",
   "language": "python",
   "name": "python3"
  },
  "language_info": {
   "codemirror_mode": {
    "name": "ipython",
    "version": 3
   },
   "file_extension": ".py",
   "mimetype": "text/x-python",
   "name": "python",
   "nbconvert_exporter": "python",
   "pygments_lexer": "ipython3",
   "version": "3.11.11"
  }
 },
 "nbformat": 4,
 "nbformat_minor": 2
}
