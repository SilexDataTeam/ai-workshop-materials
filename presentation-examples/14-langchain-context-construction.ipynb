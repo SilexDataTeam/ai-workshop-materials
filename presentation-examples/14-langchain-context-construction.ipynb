{
 "cells": [
  {
   "cell_type": "code",
   "execution_count": 1,
   "metadata": {},
   "outputs": [],
   "source": [
    "from langchain_community.document_loaders import WikipediaLoader\n",
    "from langchain_core.messages import HumanMessage, SystemMessage\n",
    "from langchain_core.vectorstores import InMemoryVectorStore\n",
    "from langchain_openai.chat_models import ChatOpenAI\n",
    "from langchain_openai.embeddings import OpenAIEmbeddings\n",
    "from langchain_text_splitters import RecursiveCharacterTextSplitter"
   ]
  },
  {
   "cell_type": "code",
   "execution_count": 2,
   "metadata": {},
   "outputs": [],
   "source": [
    "loader = WikipediaLoader(query=\"nashville, tennessee\")\n",
    "documents = loader.load()"
   ]
  },
  {
   "cell_type": "code",
   "execution_count": 3,
   "metadata": {},
   "outputs": [],
   "source": [
    "text_splitter = RecursiveCharacterTextSplitter(chunk_size=1000, chunk_overlap=100)\n",
    "\n",
    "split_documents = text_splitter.split_documents(documents)"
   ]
  },
  {
   "cell_type": "code",
   "execution_count": 4,
   "metadata": {},
   "outputs": [
    {
     "data": {
      "text/plain": [
       "['10b25a14-1e7d-491b-9ab1-2e7b33d3caaa',\n",
       " 'c04cf2f8-aee9-455a-ab6d-394b74c4dd69',\n",
       " 'f61ed86c-bb09-4ee4-84e9-3b867b0801fa',\n",
       " '975cb1e9-880d-4fd2-becc-8b286e290506',\n",
       " 'ece709cf-985e-43cb-9818-7f18716fe593',\n",
       " 'e4afb114-a1c8-42d6-afe4-687b37caf03c',\n",
       " 'f661d0a2-0e97-4f3a-a27a-322f471155cd',\n",
       " 'ce3aa746-8d67-4536-97e5-0c755187d45f',\n",
       " 'c60b4573-cc47-4718-a89c-1b26ab269e3a',\n",
       " '960e6b70-84a1-4d24-83a8-05adf51c1aac',\n",
       " '984c334d-5040-447e-b0da-214404d35128',\n",
       " '6770111e-5d8a-4912-922b-fb6859f6410e',\n",
       " '3d2d21c1-84c1-4fd3-9e53-8091d1f7a1f7',\n",
       " '0cb1a15a-b4b0-4793-ae2c-b1b1c5c002c5',\n",
       " 'ab3df530-794f-41c6-b0d0-6b58e6e95bd2',\n",
       " '73a00e6c-927f-4220-9b89-a03a55f00c13',\n",
       " 'afb49fe0-d0f3-4dee-b532-5acfb01b7d74',\n",
       " 'e6f50b0e-7a0d-4a9b-8cb6-73e4c526c482',\n",
       " 'a355d4c7-e3e6-4876-b50e-4f9772168c9e',\n",
       " 'cf19271d-637c-42ff-80a3-051600564dde',\n",
       " '7649c14b-c0d1-4b03-aa4a-464601fd08a2',\n",
       " 'b7cee7ab-da17-48d3-885d-a20e6f41ff1c',\n",
       " '59c3fa57-a7ea-4669-830d-a145dade038c',\n",
       " '85b907d6-7474-4dc6-8bf3-a60251c9fe57',\n",
       " '01ca8449-477a-498a-9d35-1089ede3e1ad',\n",
       " 'f1c12c3e-49c3-40e6-b664-7497f90c9699',\n",
       " 'f543f1e3-7d49-477b-b7a6-f2701b154121',\n",
       " '406801be-9bfc-4442-93fe-5ac685ed4e08',\n",
       " '916f27a1-fd11-43ac-b7a4-691fa6e6d3c9',\n",
       " '296c67fa-3742-47e6-b097-1d716550a4e8',\n",
       " '2927104a-64e9-4ccc-9bc9-32e679b05f24',\n",
       " 'ec74fc70-e285-4aa0-999c-3e41e3e11368',\n",
       " '6181b5ed-95f0-4890-a827-933bc01e1b95',\n",
       " '8be762db-007a-4c3c-a6cd-d941cc171621',\n",
       " '35b24fa2-3c5c-4f3f-ae4a-9c46ef0ae986',\n",
       " 'f6563aa1-8b5e-4997-803f-8123d452bb98',\n",
       " '4ee36c1e-582b-4a80-a524-766456b58f0f',\n",
       " 'bd1ea1c8-bb9a-486d-8ec0-bdab524585ae',\n",
       " 'e3014d38-d84f-4b4f-8974-5645195295ec',\n",
       " 'bae9105e-84b6-4db0-939e-d152426e659d',\n",
       " '714be5ce-66a8-4e3b-8e79-71a32269fc76',\n",
       " 'd5ad3bc0-f5c2-4292-aab2-4e27eb355b87',\n",
       " '43b660c4-3cd6-4a67-bb22-73d9a8bdced4',\n",
       " 'f5ef46f5-48e1-4f26-808d-ec9397a57f61',\n",
       " 'befc90be-d697-4e49-b92c-cfb6335da876',\n",
       " '85e8ba00-a59f-4a6f-9814-df9ab0714349',\n",
       " 'dae6fa6c-62b3-4a08-b001-df57c4e30209',\n",
       " '637addc9-be4a-434e-8c50-3a01dfc598e1',\n",
       " 'bd9a1990-7e28-4af0-acf2-4d82944f0ce2',\n",
       " '6a66fbe7-91f9-4863-ad81-e2f8e7c43fc2',\n",
       " '64012723-18a3-4716-ae4b-944b45233b17',\n",
       " 'fba350f1-e94d-4b38-93c7-85f54e8a5301',\n",
       " 'e59e78d8-74cd-4713-93af-92ec47b8159a',\n",
       " '5a937140-3540-4947-9f07-7d661a791efa',\n",
       " 'fb6a035c-84b5-43c9-b99b-a011e88cbe53',\n",
       " 'a122a577-4ccd-4fff-8e18-8fe635dd5ba0',\n",
       " '46f97dfd-5ce6-481e-8e6a-b6d053fe1e29',\n",
       " 'ced8f34f-cc4a-4058-9e67-a7bb5350f361',\n",
       " '70924841-dbcb-4e5e-8c87-ca0153c145ca',\n",
       " 'b1596987-058a-4b28-84ff-234727fdcc22',\n",
       " '398070fb-048d-4d2d-ba22-6c8b5fe64b19',\n",
       " '2afd90f7-b90d-4631-9b73-87c917b584b0',\n",
       " '762d3c76-5d2c-48c1-87b7-0a5639fb7ea3',\n",
       " '8ad2d856-c5b2-4b82-b7a6-128746c5a29d',\n",
       " 'a491203c-7916-4167-9e42-9ae126482725',\n",
       " 'e2288bf6-a8d4-4411-a46b-801493cfd16e',\n",
       " '286c4b5e-7a7d-412f-a229-c356084b9dc1',\n",
       " '98775614-8ff5-44f5-82b3-25a1df19afba',\n",
       " '0c14fdc8-9791-4249-bd1f-11325673f5e6',\n",
       " '00c6fe0a-655f-46fa-90cc-1071df8ef669',\n",
       " '615366a7-ce46-423f-a241-b7a8dfc20372',\n",
       " 'f0624fe2-e7ce-45b5-85e3-6e2d4dc205e2',\n",
       " '9f3d7b15-b7c1-4cde-babb-83e0f14bf85e',\n",
       " 'b6fd077a-5446-40c5-bd92-3bcb77076131',\n",
       " '5808be62-aa8f-4d65-a646-2fc7b23ff602',\n",
       " '31726dc3-482a-446c-973a-03ea3f8fff6d',\n",
       " 'a6782b43-f32a-425a-992d-262df866130a',\n",
       " '46595e78-59ab-41b5-a21a-625252da0daa',\n",
       " 'e44a82be-5e70-4257-9647-d7de61aee590',\n",
       " '551aee40-1a63-4b16-8af7-173e78376e3e',\n",
       " 'a65ba3ad-af69-48f2-aef4-672eb813665b',\n",
       " '41a9c7d6-3081-4a80-95dd-313b27415d46',\n",
       " '42d2331e-f638-4597-8293-cda3faf8b0e4',\n",
       " 'b7cd0405-6c05-4499-a58d-c506a1e0bc45',\n",
       " '9bc2bba1-0df0-4c8c-891f-390e58809435',\n",
       " 'c361fb1d-b356-4f96-b1c1-3988871758e1',\n",
       " 'dc693c4b-ffb2-4cbe-bf03-163d1fa8315f',\n",
       " '74e6a894-d4a7-4cd1-9708-c55061202644',\n",
       " '53f9deab-5011-49b8-a9b5-c7a75e95e0e7',\n",
       " 'cd9efc1a-16d7-4199-96f7-c6799869aafb',\n",
       " 'edecc4de-52f2-41f9-8765-b61151e69411',\n",
       " '036a886d-88bb-4f25-81d8-0f945fc967d4',\n",
       " 'ed464fd1-55f4-424b-8027-a544964089c3',\n",
       " '74078e17-7ec8-4d91-a7d9-560432afb945',\n",
       " 'a6ac4621-5542-434c-8f4d-7c8d5a45f46c',\n",
       " '673aa5d2-ca0c-4ac1-944f-f882274eeef6',\n",
       " 'a5fe7de1-e5d6-481c-a219-4aca9e7a1f69',\n",
       " '2da2fb72-e278-4eee-bf1c-d99012ff8f74',\n",
       " 'd137eb8e-59d7-40e5-9767-230c5cc9d915',\n",
       " '3811739c-1e52-49cf-8abe-413b565ac0d0',\n",
       " 'a3b7f826-7ca0-42ce-9188-4a3b1f67178c',\n",
       " '9dfd2478-f954-4bd1-a3eb-2259a2472682',\n",
       " '192f1387-6cf4-44ae-bc79-cb337419325c',\n",
       " '6dccd89a-1ed0-4e71-bd30-03ca341b60f3',\n",
       " '9366c67b-19e6-4373-9a93-dc0cf7f339e4',\n",
       " '93dc9c59-9a1c-4db8-9043-51f9144a1e07',\n",
       " 'b23c391a-5604-4640-85a5-9b90a15fb036',\n",
       " '6094bed8-4f06-4924-b020-4ebd04b8d7e8',\n",
       " '790a48c8-47d1-4050-b18b-32d93d75b7ba',\n",
       " '854ebc2e-ff57-4694-98e6-c7aad23ad8ae',\n",
       " 'dfd5ff9a-c16a-4e99-b42f-d15b70f2c851',\n",
       " 'f6961130-c197-490c-9b87-e0b5658cdbf8',\n",
       " 'dc45ebe0-ee51-4a31-8d38-fecea17a1fe8',\n",
       " 'e45f8100-6996-4188-b3bd-66b3b21ec2cd',\n",
       " '4d7596b0-b2da-4425-a6e1-fa21481c3c8a',\n",
       " 'dc60aa22-cfdf-42f7-8898-40db662d202d',\n",
       " '3a8f51ac-48ac-4f69-9926-1ce454291345',\n",
       " 'd4bb2500-5977-44e0-b9f1-9e27923c0acf',\n",
       " '5449f106-5dd5-4bf5-8e11-bfaa0bedee05',\n",
       " '628ec9d9-b35c-41ee-a71e-5d15940e30d8',\n",
       " '2846a1b3-5eab-48b2-ba7f-fab9853a0254',\n",
       " 'e6053e2a-0075-45a7-81a1-64b20ebee789',\n",
       " 'd08fc3aa-a3f5-4ced-ac6a-bdfa1ee5bbaa',\n",
       " '316a3f98-c2b1-4d3c-855d-16a1cb9b8f8e',\n",
       " '5ff29243-327d-4417-9140-2db66575b3b0',\n",
       " 'ed50e735-00e0-4df9-86bf-fc126a566740',\n",
       " 'ab0eb67f-86f4-4343-9f6c-b90319c51168',\n",
       " 'c5dafbee-a656-4fb2-b1e8-5a33e2a6fd0d',\n",
       " '571f6968-d941-4774-ba5d-b62e24ea7544',\n",
       " '85379a42-dc40-4019-9bae-7a97dbf6bfe3',\n",
       " '37a802b1-d742-4fe6-be9e-fa058fd74dd8',\n",
       " '8dc322e5-b9f3-48b8-aa04-41622ebbfd1d',\n",
       " '93bede7d-e862-44b2-852f-8857ed8615b1',\n",
       " '85808e16-2674-4574-bd2a-a4bafd7ff98e',\n",
       " '5340be74-e916-4aec-9ff8-5c493ebac865',\n",
       " '3b11118c-a8f1-4472-ba5a-12f7a5e9b588',\n",
       " '1d2c3dc1-1f7c-455a-bea2-9ad8eef06b1c',\n",
       " 'adc3d969-a828-44db-b548-6c75c38c2cda',\n",
       " '940c8af0-97ef-4383-94df-3c7d9265c801',\n",
       " '3d2f0468-2816-4b04-a6ec-8fc713ef148d',\n",
       " '2a1214ef-e064-42a9-a0fb-7a22bc3db050',\n",
       " '002358c0-1e27-4ef4-8ed7-2a9d346e7b38',\n",
       " '588c9b4c-a7f2-45dd-84c6-76fea1218d27',\n",
       " '1f369d79-152a-4e46-9698-041c24f1dfef',\n",
       " 'a48efc01-d571-4694-9e32-9f5b9d782926',\n",
       " '37896887-26e4-4fad-be34-f8c6e4cbcea6',\n",
       " '10942a4e-778d-429b-81fa-d687ba0a8eb4']"
      ]
     },
     "execution_count": 4,
     "metadata": {},
     "output_type": "execute_result"
    }
   ],
   "source": [
    "embedding = OpenAIEmbeddings(model=\"text-embedding-3-small\")\n",
    "\n",
    "vector_store = InMemoryVectorStore(embedding=embedding)\n",
    "\n",
    "vector_store.add_documents(split_documents)"
   ]
  },
  {
   "cell_type": "code",
   "execution_count": 5,
   "metadata": {},
   "outputs": [
    {
     "data": {
      "text/plain": [
       "AIMessage(content=\"I'm sorry, but I can't provide information outside of the provided context.\", additional_kwargs={'refusal': None}, response_metadata={'token_usage': {'completion_tokens': 15, 'prompt_tokens': 55, 'total_tokens': 70, 'completion_tokens_details': {'audio_tokens': 0, 'reasoning_tokens': 0, 'accepted_prediction_tokens': 0, 'rejected_prediction_tokens': 0}, 'prompt_tokens_details': {'audio_tokens': 0, 'cached_tokens': 0}}, 'model_name': 'gpt-4o-mini-2024-07-18', 'system_fingerprint': 'fp_d02d531b47', 'finish_reason': 'stop', 'logprobs': None}, id='run-d6810a45-ab99-4d85-b8cb-1f02b9a2baf3-0', usage_metadata={'input_tokens': 55, 'output_tokens': 15, 'total_tokens': 70, 'input_token_details': {'audio': 0, 'cache_read': 0}, 'output_token_details': {'audio': 0, 'reasoning': 0}})"
      ]
     },
     "execution_count": 5,
     "metadata": {},
     "output_type": "execute_result"
    }
   ],
   "source": [
    "llm = ChatOpenAI(model=\"gpt-4o-mini\")\n",
    "\n",
    "system_prompt = (\n",
    "    \"You are a helpful assistant that answers questions based only on the provided context. \"\n",
    "    \"If the question cannot be sourced based on the provided context, then politely refuse to answer the question. \"\n",
    ")\n",
    "\n",
    "query = \"What is the capitol of Tennessee?\"\n",
    "\n",
    "messages = [SystemMessage(content=system_prompt), HumanMessage(content=query)]\n",
    "\n",
    "llm.invoke(messages)"
   ]
  },
  {
   "cell_type": "code",
   "execution_count": 6,
   "metadata": {},
   "outputs": [
    {
     "data": {
      "text/plain": [
       "[SystemMessage(content='You are a helpful assistant that answers questions based only on the provided context. If the question cannot be sourced based on the provided context, then politely refuse to answer the question. ', additional_kwargs={}, response_metadata={}),\n",
       " HumanMessage(content='What is the capitol of Tennessee?', additional_kwargs={}, response_metadata={}),\n",
       " HumanMessage(content='context: [Document(id=\\'46f97dfd-5ce6-481e-8e6a-b6d053fe1e29\\', metadata={\\'title\\': \\'Tennessee\\', \\'summary\\': \\'Tennessee ( , locally ), officially the State of Tennessee, is a landlocked state in the Southeastern region of the United States. It borders Kentucky to the north, Virginia to the northeast, North Carolina to the east, Georgia, Alabama, and Mississippi to the south, Arkansas to the southwest, and Missouri to the northwest. Tennessee is the 36th-largest by area and the 15th-most populous of the 50 states. According to the United States Census Bureau, the state\\\\\\'s estimated population as of 2024 is 7.22 million.\\\\nTennessee is geographically, culturally, and legally divided into three Grand Divisions of East, Middle, and West Tennessee. Nashville is the state\\\\\\'s capital and largest city, and anchors its largest metropolitan area. Tennessee has diverse terrain and landforms, and from east to west, contains a mix of cultural features characteristic of Appalachia, the Upland South, and the Deep South. The Blue Ridge Mountains along the eastern border reach some of the highest elevations in eastern North America, and the Cumberland Plateau contains many scenic valleys and waterfalls. The central part of the state is marked by cavernous bedrock and irregular rolling hills, and level, fertile plains define West Tennessee. The state is twice bisected by the Tennessee River, and the Mississippi River forms its western border. The Great Smoky Mountains National Park, the nation\\\\\\'s most visited national park, is in eastern Tennessee.\\\\nTennessee is rooted in the Watauga Association, a 1772 frontier pact generally regarded as the first constitutional government west of the Appalachian Mountains. Its name derives from Tanasi (ᏔᎾᏏ), a Cherokee town preceding the first European American settlement. Tennessee was initially part of North Carolina, and later the Southwest Territory, before its admission to the Union as the 16th state on June 1, 1796. It earned the nickname \"The Volunteer State\" due to a strong tradition of military service. A slave state until the American Civil War, Tennessee was politically divided, with most of its western and middle parts supporting the Confederacy, and most of the eastern region harboring pro-Union sentiment. As a result, Tennessee was the last state to officially secede from the Union and join the Confederacy, and the first former Confederate state readmitted to the Union after the war had ended during the Reconstruction era.\\\\nDuring the 20th century, Tennessee transitioned from a predominantly agrarian society to a more diversified economy. This was aided in part by massive federal investment in the Tennessee Valley Authority (TVA) and the city of Oak Ridge, which was established during World War II to house the Manhattan Project\\\\\\'s uranium enrichment facilities for the construction of the world\\\\\\'s first atomic bombs. After the war, the Oak Ridge National Laboratory became a key center of scientific research. The state\\\\\\'s economy is dominated by the health care, music, finance, automotive, chemical, electronics, and tourism sectors, and cattle, soybeans, poultry, corn, and cotton are its primary agricultural products. Tennessee has played a major role in the development of many forms of popular music, including country, blues, rock and roll, soul, and gospel.\\\\n\\\\n\\', \\'source\\': \\'https://en.wikipedia.org/wiki/Tennessee\\'}, page_content=\"Tennessee is geographically, culturally, and legally divided into three Grand Divisions of East, Middle, and West Tennessee. Nashville is the state\\'s capital and largest city, and anchors its largest metropolitan area. Tennessee has diverse terrain and landforms, and from east to west, contains a mix of cultural features characteristic of Appalachia, the Upland South, and the Deep South. The Blue Ridge Mountains along the eastern border reach some of the highest elevations in eastern North America, and the Cumberland Plateau contains many scenic valleys and waterfalls. The central part of the state is marked by cavernous bedrock and irregular rolling hills, and level, fertile plains define West Tennessee. The state is twice bisected by the Tennessee River, and the Mississippi River forms its western border. The Great Smoky Mountains National Park, the nation\\'s most visited national park, is in eastern Tennessee.\"), Document(id=\\'f5ef46f5-48e1-4f26-808d-ec9397a57f61\\', metadata={\\'title\\': \\'History of Nashville, Tennessee\\', \\'summary\\': \\'This article pertains to the history of Nashville, the state capital of Tennessee. What is now Nashville was the center of civilization for the Mississippian  culture around 1300.  In 1779, Fort Nashborough was built here in 1779 by pioneers from North Carolina. In 1784 it was incorporated as a town by the North Carolina legislature. The Southwest Territory became the state of Tennessee in 1796 and Nashville became an incorporated city in 1806. In 1843 it became the state capital of Tennessee.  In the Civil War Nashville was seized by Federal troops in 1862 and became a  major Union military base. Confederate General J. B. Hood was decisively defeated in the Battle of Nashville in 1864. The city became the political, transportation, business and cultural center of the Middle Tennessee region.  Besides the state government, it is best known for its educational, musical and religious establishments. In 1963 Nashville and Davidson County were consolidated under a single charter and are administered by a mayor and a council.\\\\n\\\\n\\', \\'source\\': \\'https://en.wikipedia.org/wiki/History_of_Nashville,_Tennessee\\'}, page_content=\\'This article pertains to the history of Nashville, the state capital of Tennessee. What is now Nashville was the center of civilization for the Mississippian  culture around 1300.  In 1779, Fort Nashborough was built here in 1779 by pioneers from North Carolina. In 1784 it was incorporated as a town by the North Carolina legislature. The Southwest Territory became the state of Tennessee in 1796 and Nashville became an incorporated city in 1806. In 1843 it became the state capital of Tennessee.  In the Civil War Nashville was seized by Federal troops in 1862 and became a  major Union military base. Confederate General J. B. Hood was decisively defeated in the Battle of Nashville in 1864. The city became the political, transportation, business and cultural center of the Middle Tennessee region.  Besides the state government, it is best known for its educational, musical and religious establishments. In 1963 Nashville and Davidson County were consolidated under a single charter and are\\'), Document(id=\\'10b25a14-1e7d-491b-9ab1-2e7b33d3caaa\\', metadata={\\'title\\': \\'Nashville, Tennessee\\', \\'summary\\': \\'Nashville, often known as Music City, is the capital and most populous city in the U.S. state of Tennessee and the county seat of Davidson County. Located in Middle Tennessee, it had a population of 689,447 at the 2020 U.S. census. Nashville is the 21st most populous city in the United States, and the fourth most populous city in the southeastern U.S. Located on the Cumberland River, the city is the center of the Nashville metropolitan area, and is one of the fastest growing in the nation.\\\\nNamed for Francis Nash, a general of the Continental Army during the American Revolutionary War, the city was founded in 1779 when this territory was still considered part of North Carolina. The city grew quickly due to its strategic location as a port on the Cumberland River and, in the 19th century, a railroad center. Nashville as part of Tennessee seceded during the American Civil War; in 1862 it was the first state capital in the Confederacy to be taken by Union forces. It was occupied through the war. After the war, the city gradually reclaimed its stature. It became a center of trade and developed a manufacturing base.\\\\nSince 1963, Nashville has had a consolidated city-county government, which includes six smaller municipalities in a two-tier system. The city is governed by a mayor, a vice-mayor, and a 40-member metropolitan council. Some 35 of the members are elected from single-member districts, while five are elected at-large. Reflecting the city\\\\\\'s position in state government, Nashville is home to the Tennessee Supreme Court\\\\\\'s courthouse for Middle Tennessee, one of the state\\\\\\'s three divisions.\\\\nAs of 2020, Nashville is considered a global city, type \"Gamma\" by the GaWC. The city is a major center for the music industry, especially country music. It is home to three major professional sports teams: the Predators, Titans, and Nashville SC. The city is also the home of many colleges and universities including Tennessee State University, Vanderbilt University, Belmont University, Fisk University, Trevecca Nazarene University, and Lipscomb University. Nashville is sometimes referred to as the \"Athens of the South\" due to the large number of educational institutions. The city is also a major center for the healthcare, publishing, banking, automotive, and technology industries. Entities with headquarters in the city include AllianceBernstein, Asurion, Bridgestone Americas, Captain D\\\\\\'s, Concord, Gideons International, Hospital Corporation of America, LifeWay Christian Resources, Logan\\\\\\'s Roadhouse, and Ryman Hospitality Properties.\\', \\'source\\': \\'https://en.wikipedia.org/wiki/Nashville,_Tennessee\\'}, page_content=\\'Nashville, often known as Music City, is the capital and most populous city in the U.S. state of Tennessee and the county seat of Davidson County. Located in Middle Tennessee, it had a population of 689,447 at the 2020 U.S. census. Nashville is the 21st most populous city in the United States, and the fourth most populous city in the southeastern U.S. Located on the Cumberland River, the city is the center of the Nashville metropolitan area, and is one of the fastest growing in the nation.\\'), Document(id=\\'f661d0a2-0e97-4f3a-a27a-322f471155cd\\', metadata={\\'title\\': \\'Nashville, Tennessee\\', \\'summary\\': \\'Nashville, often known as Music City, is the capital and most populous city in the U.S. state of Tennessee and the county seat of Davidson County. Located in Middle Tennessee, it had a population of 689,447 at the 2020 U.S. census. Nashville is the 21st most populous city in the United States, and the fourth most populous city in the southeastern U.S. Located on the Cumberland River, the city is the center of the Nashville metropolitan area, and is one of the fastest growing in the nation.\\\\nNamed for Francis Nash, a general of the Continental Army during the American Revolutionary War, the city was founded in 1779 when this territory was still considered part of North Carolina. The city grew quickly due to its strategic location as a port on the Cumberland River and, in the 19th century, a railroad center. Nashville as part of Tennessee seceded during the American Civil War; in 1862 it was the first state capital in the Confederacy to be taken by Union forces. It was occupied through the war. After the war, the city gradually reclaimed its stature. It became a center of trade and developed a manufacturing base.\\\\nSince 1963, Nashville has had a consolidated city-county government, which includes six smaller municipalities in a two-tier system. The city is governed by a mayor, a vice-mayor, and a 40-member metropolitan council. Some 35 of the members are elected from single-member districts, while five are elected at-large. Reflecting the city\\\\\\'s position in state government, Nashville is home to the Tennessee Supreme Court\\\\\\'s courthouse for Middle Tennessee, one of the state\\\\\\'s three divisions.\\\\nAs of 2020, Nashville is considered a global city, type \"Gamma\" by the GaWC. The city is a major center for the music industry, especially country music. It is home to three major professional sports teams: the Predators, Titans, and Nashville SC. The city is also the home of many colleges and universities including Tennessee State University, Vanderbilt University, Belmont University, Fisk University, Trevecca Nazarene University, and Lipscomb University. Nashville is sometimes referred to as the \"Athens of the South\" due to the large number of educational institutions. The city is also a major center for the healthcare, publishing, banking, automotive, and technology industries. Entities with headquarters in the city include AllianceBernstein, Asurion, Bridgestone Americas, Captain D\\\\\\'s, Concord, Gideons International, Hospital Corporation of America, LifeWay Christian Resources, Logan\\\\\\'s Roadhouse, and Ryman Hospitality Properties.\\', \\'source\\': \\'https://en.wikipedia.org/wiki/Nashville,_Tennessee\\'}, page_content=\\'In 1779, explorers James Robertson and John Donelson led a party of Overmountain Men to the site of French Lick, and constructed Fort Nashborough. It was named for Francis Nash, the American Revolutionary War hero. Nashville quickly grew because of its strategic location as a port on the Cumberland River, a tributary of the Ohio River; and its later status as a major railroad center. By 1800, the city had 345 residents, including 136 enslaved African Americans and 14 free African Americans. In 1806, Nashville was incorporated as a city and became the county seat of Davidson County, Tennessee. In 1843, the city was named as the permanent capital of the state of Tennessee.  Knoxville, Kingston & Murfreesboro were prior locations of the state capital.\\\\nThe city government of Nashville owned 24 slaves by 1831, and 60 prior to the Civil War. They were \"put to work to build the fir\\')]', additional_kwargs={}, response_metadata={})]"
      ]
     },
     "execution_count": 6,
     "metadata": {},
     "output_type": "execute_result"
    }
   ],
   "source": [
    "results = vector_store.similarity_search(query)\n",
    "\n",
    "messages.append(HumanMessage(content=f\"context: {results}\"))\n",
    "\n",
    "messages"
   ]
  },
  {
   "cell_type": "code",
   "execution_count": 7,
   "metadata": {},
   "outputs": [
    {
     "data": {
      "text/plain": [
       "AIMessage(content='The capital of Tennessee is Nashville.', additional_kwargs={'refusal': None}, response_metadata={'token_usage': {'completion_tokens': 8, 'prompt_tokens': 2957, 'total_tokens': 2965, 'completion_tokens_details': {'audio_tokens': 0, 'reasoning_tokens': 0, 'accepted_prediction_tokens': 0, 'rejected_prediction_tokens': 0}, 'prompt_tokens_details': {'audio_tokens': 0, 'cached_tokens': 0}}, 'model_name': 'gpt-4o-mini-2024-07-18', 'system_fingerprint': 'fp_d02d531b47', 'finish_reason': 'stop', 'logprobs': None}, id='run-86ecb7d1-c77a-4b17-aa29-5e8a4bab045e-0', usage_metadata={'input_tokens': 2957, 'output_tokens': 8, 'total_tokens': 2965, 'input_token_details': {'audio': 0, 'cache_read': 0}, 'output_token_details': {'audio': 0, 'reasoning': 0}})"
      ]
     },
     "execution_count": 7,
     "metadata": {},
     "output_type": "execute_result"
    }
   ],
   "source": [
    "llm.invoke(messages)"
   ]
  },
  {
   "cell_type": "code",
   "execution_count": null,
   "metadata": {},
   "outputs": [],
   "source": []
  }
 ],
 "metadata": {
  "kernelspec": {
   "display_name": ".venv",
   "language": "python",
   "name": "python3"
  },
  "language_info": {
   "codemirror_mode": {
    "name": "ipython",
    "version": 3
   },
   "file_extension": ".py",
   "mimetype": "text/x-python",
   "name": "python",
   "nbconvert_exporter": "python",
   "pygments_lexer": "ipython3",
   "version": "3.11.11"
  }
 },
 "nbformat": 4,
 "nbformat_minor": 2
}
