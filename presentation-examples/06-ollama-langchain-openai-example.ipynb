{
 "cells": [
  {
   "cell_type": "code",
   "execution_count": 1,
   "metadata": {},
   "outputs": [
    {
     "name": "stdout",
     "output_type": "stream",
     "text": [
      "Requirement already satisfied: langchain-openai in /Users/dlewis/work/repos/silex/ai-workshop-materials/.venv/lib/python3.11/site-packages (0.2.3)\n",
      "Requirement already satisfied: langchain-core<0.4.0,>=0.3.12 in /Users/dlewis/work/repos/silex/ai-workshop-materials/.venv/lib/python3.11/site-packages (from langchain-openai) (0.3.12)\n",
      "Requirement already satisfied: openai<2.0.0,>=1.52.0 in /Users/dlewis/work/repos/silex/ai-workshop-materials/.venv/lib/python3.11/site-packages (from langchain-openai) (1.52.0)\n",
      "Requirement already satisfied: tiktoken<1,>=0.7 in /Users/dlewis/work/repos/silex/ai-workshop-materials/.venv/lib/python3.11/site-packages (from langchain-openai) (0.8.0)\n",
      "Requirement already satisfied: PyYAML>=5.3 in /Users/dlewis/work/repos/silex/ai-workshop-materials/.venv/lib/python3.11/site-packages (from langchain-core<0.4.0,>=0.3.12->langchain-openai) (6.0.2)\n",
      "Requirement already satisfied: jsonpatch<2.0,>=1.33 in /Users/dlewis/work/repos/silex/ai-workshop-materials/.venv/lib/python3.11/site-packages (from langchain-core<0.4.0,>=0.3.12->langchain-openai) (1.33)\n",
      "Requirement already satisfied: langsmith<0.2.0,>=0.1.125 in /Users/dlewis/work/repos/silex/ai-workshop-materials/.venv/lib/python3.11/site-packages (from langchain-core<0.4.0,>=0.3.12->langchain-openai) (0.1.136)\n",
      "Requirement already satisfied: packaging<25,>=23.2 in /Users/dlewis/work/repos/silex/ai-workshop-materials/.venv/lib/python3.11/site-packages (from langchain-core<0.4.0,>=0.3.12->langchain-openai) (24.1)\n",
      "Requirement already satisfied: pydantic<3.0.0,>=2.5.2 in /Users/dlewis/work/repos/silex/ai-workshop-materials/.venv/lib/python3.11/site-packages (from langchain-core<0.4.0,>=0.3.12->langchain-openai) (2.9.2)\n",
      "Requirement already satisfied: tenacity!=8.4.0,<10.0.0,>=8.1.0 in /Users/dlewis/work/repos/silex/ai-workshop-materials/.venv/lib/python3.11/site-packages (from langchain-core<0.4.0,>=0.3.12->langchain-openai) (9.0.0)\n",
      "Requirement already satisfied: typing-extensions>=4.7 in /Users/dlewis/work/repos/silex/ai-workshop-materials/.venv/lib/python3.11/site-packages (from langchain-core<0.4.0,>=0.3.12->langchain-openai) (4.12.2)\n",
      "Requirement already satisfied: anyio<5,>=3.5.0 in /Users/dlewis/work/repos/silex/ai-workshop-materials/.venv/lib/python3.11/site-packages (from openai<2.0.0,>=1.52.0->langchain-openai) (4.6.2.post1)\n",
      "Requirement already satisfied: distro<2,>=1.7.0 in /Users/dlewis/work/repos/silex/ai-workshop-materials/.venv/lib/python3.11/site-packages (from openai<2.0.0,>=1.52.0->langchain-openai) (1.9.0)\n",
      "Requirement already satisfied: httpx<1,>=0.23.0 in /Users/dlewis/work/repos/silex/ai-workshop-materials/.venv/lib/python3.11/site-packages (from openai<2.0.0,>=1.52.0->langchain-openai) (0.27.2)\n",
      "Requirement already satisfied: jiter<1,>=0.4.0 in /Users/dlewis/work/repos/silex/ai-workshop-materials/.venv/lib/python3.11/site-packages (from openai<2.0.0,>=1.52.0->langchain-openai) (0.6.1)\n",
      "Requirement already satisfied: sniffio in /Users/dlewis/work/repos/silex/ai-workshop-materials/.venv/lib/python3.11/site-packages (from openai<2.0.0,>=1.52.0->langchain-openai) (1.3.1)\n",
      "Requirement already satisfied: tqdm>4 in /Users/dlewis/work/repos/silex/ai-workshop-materials/.venv/lib/python3.11/site-packages (from openai<2.0.0,>=1.52.0->langchain-openai) (4.66.5)\n",
      "Requirement already satisfied: regex>=2022.1.18 in /Users/dlewis/work/repos/silex/ai-workshop-materials/.venv/lib/python3.11/site-packages (from tiktoken<1,>=0.7->langchain-openai) (2024.9.11)\n",
      "Requirement already satisfied: requests>=2.26.0 in /Users/dlewis/work/repos/silex/ai-workshop-materials/.venv/lib/python3.11/site-packages (from tiktoken<1,>=0.7->langchain-openai) (2.32.3)\n",
      "Requirement already satisfied: idna>=2.8 in /Users/dlewis/work/repos/silex/ai-workshop-materials/.venv/lib/python3.11/site-packages (from anyio<5,>=3.5.0->openai<2.0.0,>=1.52.0->langchain-openai) (3.10)\n",
      "Requirement already satisfied: certifi in /Users/dlewis/work/repos/silex/ai-workshop-materials/.venv/lib/python3.11/site-packages (from httpx<1,>=0.23.0->openai<2.0.0,>=1.52.0->langchain-openai) (2024.8.30)\n",
      "Requirement already satisfied: httpcore==1.* in /Users/dlewis/work/repos/silex/ai-workshop-materials/.venv/lib/python3.11/site-packages (from httpx<1,>=0.23.0->openai<2.0.0,>=1.52.0->langchain-openai) (1.0.6)\n",
      "Requirement already satisfied: h11<0.15,>=0.13 in /Users/dlewis/work/repos/silex/ai-workshop-materials/.venv/lib/python3.11/site-packages (from httpcore==1.*->httpx<1,>=0.23.0->openai<2.0.0,>=1.52.0->langchain-openai) (0.14.0)\n",
      "Requirement already satisfied: jsonpointer>=1.9 in /Users/dlewis/work/repos/silex/ai-workshop-materials/.venv/lib/python3.11/site-packages (from jsonpatch<2.0,>=1.33->langchain-core<0.4.0,>=0.3.12->langchain-openai) (3.0.0)\n",
      "Requirement already satisfied: orjson<4.0.0,>=3.9.14 in /Users/dlewis/work/repos/silex/ai-workshop-materials/.venv/lib/python3.11/site-packages (from langsmith<0.2.0,>=0.1.125->langchain-core<0.4.0,>=0.3.12->langchain-openai) (3.10.9)\n",
      "Requirement already satisfied: requests-toolbelt<2.0.0,>=1.0.0 in /Users/dlewis/work/repos/silex/ai-workshop-materials/.venv/lib/python3.11/site-packages (from langsmith<0.2.0,>=0.1.125->langchain-core<0.4.0,>=0.3.12->langchain-openai) (1.0.0)\n",
      "Requirement already satisfied: annotated-types>=0.6.0 in /Users/dlewis/work/repos/silex/ai-workshop-materials/.venv/lib/python3.11/site-packages (from pydantic<3.0.0,>=2.5.2->langchain-core<0.4.0,>=0.3.12->langchain-openai) (0.7.0)\n",
      "Requirement already satisfied: pydantic-core==2.23.4 in /Users/dlewis/work/repos/silex/ai-workshop-materials/.venv/lib/python3.11/site-packages (from pydantic<3.0.0,>=2.5.2->langchain-core<0.4.0,>=0.3.12->langchain-openai) (2.23.4)\n",
      "Requirement already satisfied: charset-normalizer<4,>=2 in /Users/dlewis/work/repos/silex/ai-workshop-materials/.venv/lib/python3.11/site-packages (from requests>=2.26.0->tiktoken<1,>=0.7->langchain-openai) (3.4.0)\n",
      "Requirement already satisfied: urllib3<3,>=1.21.1 in /Users/dlewis/work/repos/silex/ai-workshop-materials/.venv/lib/python3.11/site-packages (from requests>=2.26.0->tiktoken<1,>=0.7->langchain-openai) (2.2.3)\n",
      "Note: you may need to restart the kernel to use updated packages.\n"
     ]
    }
   ],
   "source": [
    "%pip install langchain-openai"
   ]
  },
  {
   "cell_type": "code",
   "execution_count": 1,
   "metadata": {},
   "outputs": [],
   "source": [
    "from langchain_openai import ChatOpenAI"
   ]
  },
  {
   "cell_type": "code",
   "execution_count": null,
   "metadata": {},
   "outputs": [],
   "source": [
    "llm = ChatOpenAI(\n",
    "    base_url=\"http://localhost:11434\"\n",
    "    model=\"llama3.2:3b\"\n",
    ")"
   ]
  }
 ],
 "metadata": {
  "kernelspec": {
   "display_name": ".venv",
   "language": "python",
   "name": "python3"
  },
  "language_info": {
   "codemirror_mode": {
    "name": "ipython",
    "version": 3
   },
   "file_extension": ".py",
   "mimetype": "text/x-python",
   "name": "python",
   "nbconvert_exporter": "python",
   "pygments_lexer": "ipython3",
   "version": "3.11.10"
  }
 },
 "nbformat": 4,
 "nbformat_minor": 2
}
