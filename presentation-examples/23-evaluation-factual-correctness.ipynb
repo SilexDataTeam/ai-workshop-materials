{
 "cells": [
  {
   "cell_type": "code",
   "execution_count": 6,
   "metadata": {},
   "outputs": [
    {
     "data": {
      "text/plain": [
       "1.0"
      ]
     },
     "execution_count": 6,
     "metadata": {},
     "output_type": "execute_result"
    }
   ],
   "source": [
    "from langchain_openai.chat_models import ChatOpenAI\n",
    "from ragas import SingleTurnSample\n",
    "from ragas.llms import LangchainLLMWrapper\n",
    "from ragas.metrics import FactualCorrectness\n",
    "\n",
    "evaluator_llm = LangchainLLMWrapper(ChatOpenAI(model=\"gpt-4o-mini\"))\n",
    "\n",
    "factual_correctness = FactualCorrectness(llm=evaluator_llm, mode=\"precision\")\n",
    "\n",
    "sample = SingleTurnSample(\n",
    "    response=\"Nashville is the capital of Tennessee.\",\n",
    "    reference=\"The capital of Tennesee is Nashville. \"\n",
    "    + \"It was founded in 1779 as Fort Nashborough. \",\n",
    ")\n",
    "\n",
    "factual_correctness.single_turn_score(sample)"
   ]
  },
  {
   "cell_type": "code",
   "execution_count": 8,
   "metadata": {},
   "outputs": [
    {
     "data": {
      "text/plain": [
       "0.5"
      ]
     },
     "execution_count": 8,
     "metadata": {},
     "output_type": "execute_result"
    }
   ],
   "source": [
    "factual_correctness = FactualCorrectness(llm=evaluator_llm, mode=\"recall\")\n",
    "\n",
    "sample = SingleTurnSample(\n",
    "    response=\"Nashville is the capital of Tennessee.\",\n",
    "    reference=\"The capital of Tennesee is Nashville. \"\n",
    "    + \"It was founded in 1779 as Fort Nashborough. \",\n",
    ")\n",
    "\n",
    "factual_correctness.single_turn_score(sample)"
   ]
  },
  {
   "cell_type": "code",
   "execution_count": 9,
   "metadata": {},
   "outputs": [
    {
     "data": {
      "text/plain": [
       "0.67"
      ]
     },
     "execution_count": 9,
     "metadata": {},
     "output_type": "execute_result"
    }
   ],
   "source": [
    "factual_correctness = FactualCorrectness(llm=evaluator_llm, mode=\"f1\")\n",
    "\n",
    "sample = SingleTurnSample(\n",
    "    response=\"Nashville is the capital of Tennessee.\",\n",
    "    reference=\"The capital of Tennesee is Nashville. \"\n",
    "    + \"It was founded in 1779 as Fort Nashborough. \",\n",
    ")\n",
    "\n",
    "factual_correctness.single_turn_score(sample)"
   ]
  }
 ],
 "metadata": {
  "kernelspec": {
   "display_name": ".venv",
   "language": "python",
   "name": "python3"
  },
  "language_info": {
   "codemirror_mode": {
    "name": "ipython",
    "version": 3
   },
   "file_extension": ".py",
   "mimetype": "text/x-python",
   "name": "python",
   "nbconvert_exporter": "python",
   "pygments_lexer": "ipython3",
   "version": "3.11.11"
  }
 },
 "nbformat": 4,
 "nbformat_minor": 2
}
