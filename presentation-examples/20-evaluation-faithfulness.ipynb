{
 "cells": [
  {
   "cell_type": "code",
   "execution_count": 2,
   "metadata": {},
   "outputs": [
    {
     "data": {
      "text/plain": [
       "1.0"
      ]
     },
     "execution_count": 2,
     "metadata": {},
     "output_type": "execute_result"
    }
   ],
   "source": [
    "from langchain_openai.chat_models import ChatOpenAI\n",
    "from ragas import SingleTurnSample\n",
    "from ragas.llms import LangchainLLMWrapper\n",
    "from ragas.metrics import Faithfulness\n",
    "\n",
    "evaluator_llm = LangchainLLMWrapper(ChatOpenAI(model=\"gpt-4o-mini\"))\n",
    "\n",
    "Faithfulness = Faithfulness(llm=evaluator_llm)\n",
    "\n",
    "retrieved_contexts = [\"The capital of Tennessee is Nashville.\"]\n",
    "\n",
    "sample = SingleTurnSample(\n",
    "    user_input=\"What is the capital of Tennessee?\",\n",
    "    retrieved_contexts=retrieved_contexts,\n",
    "    response=\"Nashville is the capital of Tennessee.\",\n",
    ")\n",
    "\n",
    "Faithfulness.single_turn_score(sample)"
   ]
  },
  {
   "cell_type": "code",
   "execution_count": 3,
   "metadata": {},
   "outputs": [
    {
     "data": {
      "text/plain": [
       "0.5"
      ]
     },
     "execution_count": 3,
     "metadata": {},
     "output_type": "execute_result"
    }
   ],
   "source": [
    "sample = SingleTurnSample(\n",
    "    user_input=\"What is the capital of Tennessee?\",\n",
    "    retrieved_contexts=retrieved_contexts,\n",
    "    response=\"Nashville is the capital of Tennessee and is located in Middle Tennessee.\",\n",
    ")\n",
    "\n",
    "Faithfulness.single_turn_score(sample)"
   ]
  }
 ],
 "metadata": {
  "kernelspec": {
   "display_name": ".venv",
   "language": "python",
   "name": "python3"
  },
  "language_info": {
   "codemirror_mode": {
    "name": "ipython",
    "version": 3
   },
   "file_extension": ".py",
   "mimetype": "text/x-python",
   "name": "python",
   "nbconvert_exporter": "python",
   "pygments_lexer": "ipython3",
   "version": "3.11.11"
  }
 },
 "nbformat": 4,
 "nbformat_minor": 2
}
