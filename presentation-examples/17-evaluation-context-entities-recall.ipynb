{
 "cells": [
  {
   "cell_type": "code",
   "execution_count": 46,
   "metadata": {},
   "outputs": [
    {
     "data": {
      "text/plain": [
       "0.9999999980000001"
      ]
     },
     "execution_count": 46,
     "metadata": {},
     "output_type": "execute_result"
    }
   ],
   "source": [
    "from langchain_openai.chat_models import ChatOpenAI\n",
    "from ragas import SingleTurnSample\n",
    "from ragas.llms import LangchainLLMWrapper\n",
    "from ragas.metrics import ContextEntityRecall\n",
    "\n",
    "evaluator_llm = LangchainLLMWrapper(ChatOpenAI(model=\"gpt-4o-mini\"))\n",
    "\n",
    "context_entity_recall = ContextEntityRecall(llm=evaluator_llm)\n",
    "\n",
    "retrieved_contexts = [\n",
    "    \"The capital of Tennessee is Nashville and is located in Middle Tennessee.\",\n",
    "    \"Memphis is famous for its music scene.\",\n",
    "    \"The largest cities in East Tennessee are Chattanooga and Knoxville.\",\n",
    "]\n",
    "\n",
    "sample = SingleTurnSample(\n",
    "    reference=\"Nashville is the capital of Tennessee. \"\n",
    "    + \"Memphis, Tennessee, is well-known for its music. \"\n",
    "    + \"Knoxville and Chattanooga are the largest cities in eastern Tennessee. \",\n",
    "    retrieved_contexts=retrieved_contexts,\n",
    ")\n",
    "\n",
    "context_entity_recall.single_turn_score(sample)"
   ]
  },
  {
   "cell_type": "code",
   "execution_count": 43,
   "metadata": {},
   "outputs": [
    {
     "data": {
      "text/plain": [
       "0.8333333319444445"
      ]
     },
     "execution_count": 43,
     "metadata": {},
     "output_type": "execute_result"
    }
   ],
   "source": [
    "retrieved_contexts = [\n",
    "    \"The capital of Tennessee is Nashville.\",  # removed Middle Tennessee\n",
    "    \"Memphis is famous for its music scene.\",\n",
    "    \"The largest cities in East Tennessee are Chattanooga and Knoxville.\",\n",
    "]\n",
    "\n",
    "sample = SingleTurnSample(\n",
    "    # added Middle Tennessee\n",
    "    reference=\"Nashville is the capital of Tennessee and is located in Middle Tennessee.\"\n",
    "    + \"Memphis, Tennessee, is well-known for its music. \"\n",
    "    + \"Knoxville and Chattanooga are the largest cities in eastern Tennessee. \",\n",
    "    retrieved_contexts=retrieved_contexts,\n",
    ")\n",
    "\n",
    "context_entity_recall.single_turn_score(sample)"
   ]
  }
 ],
 "metadata": {
  "kernelspec": {
   "display_name": ".venv",
   "language": "python",
   "name": "python3"
  },
  "language_info": {
   "codemirror_mode": {
    "name": "ipython",
    "version": 3
   },
   "file_extension": ".py",
   "mimetype": "text/x-python",
   "name": "python",
   "nbconvert_exporter": "python",
   "pygments_lexer": "ipython3",
   "version": "3.11.11"
  }
 },
 "nbformat": 4,
 "nbformat_minor": 2
}
